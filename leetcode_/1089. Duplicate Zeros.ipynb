{
 "cells": [
  {
   "cell_type": "markdown",
   "id": "2aed6053",
   "metadata": {},
   "source": [
    "**[From Leetcode: 1089. Duplicate Zeros](https://leetcode.com/problems/duplicate-zeros)**\n",
    "\n",
    "<div class=\"animate-pulse flex w-full flex-col gap-6\"><div class=\"flex w-full flex-col gap-2\"><div class=\"rounded-[5px] bg-fill-3 dark:bg-dark-fill-3 h-4 w-full\"></div><div class=\"rounded-[5px] bg-fill-3 dark:bg-dark-fill-3 h-4 w-full\"></div><div class=\"rounded-[5px] bg-fill-3 dark:bg-dark-fill-3 h-4 w-1/2\"></div></div><div class=\"flex w-full flex-col gap-2\"><div class=\"rounded-[5px] bg-fill-3 dark:bg-dark-fill-3 h-4 w-full\"></div><div class=\"rounded-[5px] bg-fill-3 dark:bg-dark-fill-3 h-4 w-full\"></div><div class=\"rounded-[5px] bg-fill-3 dark:bg-dark-fill-3 h-4 w-1/2\"></div></div><div class=\"flex w-full flex-col gap-2\"><div class=\"rounded-[5px] bg-fill-3 dark:bg-dark-fill-3 h-4 w-full\"></div><div class=\"rounded-[5px] bg-fill-3 dark:bg-dark-fill-3 h-4 w-full\"></div><div class=\"rounded-[5px] bg-fill-3 dark:bg-dark-fill-3 h-4 w-1/2\"></div></div><div class=\"h-[500px] w-full\"></div></div>"
   ]
  },
  {
   "cell_type": "code",
   "execution_count": null,
   "id": "bf92adbc",
   "metadata": {},
   "outputs": [],
   "source": [
    "def duplicateZeros(arr):\n",
    "    re_ = []\n",
    "    \n",
    "    i = 0\n",
    "    while len(re_) < len(arr):\n",
    "        if arr[i] != 0:\n",
    "            re_.append(arr[i])\n",
    "        else:\n",
    "            re_.append(0)\n",
    "            re_.append(0)\n",
    "        i += 1\n",
    "            \n",
    "    arr = re_[:len(arr)]\n",
    "    print(arr)\n",
    "\n",
    "duplicateZeros([1,0,2,3,0,4,5,0])\n",
    "    "
   ]
  }
 ],
 "metadata": {},
 "nbformat": 4,
 "nbformat_minor": 5
}
