{
 "cells": [
  {
   "cell_type": "markdown",
   "id": "19fea54d",
   "metadata": {},
   "source": [
    "**[From Leetcode: 1550. Three Consecutive Odds](https://leetcode.com/problems/three-consecutive-odds)**\n",
    "\n",
    "<div class=\"xFUwe\" data-track-load=\"description_content\">Given an integer array <code>arr</code>, return <code>true</code>&nbsp;if there are three consecutive odd numbers in the array. Otherwise, return&nbsp;<code>false</code>.\n",
    "<p>&nbsp;</p>\n",
    "<p><strong class=\"example\">Example 1:</strong></p>\n",
    "\n",
    "<pre><strong>Input:</strong> arr = [2,6,4,1]\n",
    "<strong>Output:</strong> false\n",
    "<b>Explanation:</b> There are no three consecutive odds.\n",
    "</pre>\n",
    "\n",
    "<p><strong class=\"example\">Example 2:</strong></p>\n",
    "\n",
    "<pre><strong>Input:</strong> arr = [1,2,34,3,4,5,7,23,12]\n",
    "<strong>Output:</strong> true\n",
    "<b>Explanation:</b> [5,7,23] are three consecutive odds.\n",
    "</pre>\n",
    "\n",
    "<p>&nbsp;</p>\n",
    "<p><strong>Constraints:</strong></p>\n",
    "\n",
    "<ul>\n",
    "\t<li><code>1 &lt;= arr.length &lt;= 1000</code></li>\n",
    "\t<li><code>1 &lt;= arr[i] &lt;= 1000</code></li>\n",
    "</ul>\n",
    "</div>"
   ]
  },
  {
   "cell_type": "code",
   "execution_count": null,
   "id": "0ddd2fd4",
   "metadata": {},
   "outputs": [],
   "source": [
    "class Solution(object):\n",
    "    def threeConsecutiveOdds(self, arr):\n",
    "        \"\"\"\n",
    "        :type arr: List[int]\n",
    "        :rtype: bool\n",
    "        \"\"\"\n",
    "        for i in range(1, len(arr) - 1):\n",
    "            if (arr[i - 1] * arr[i] * arr[i + 1]) % 2 == 1:\n",
    "                return True\n",
    "\n",
    "        return False\n"
   ]
  }
 ],
 "metadata": {},
 "nbformat": 4,
 "nbformat_minor": 5
}
