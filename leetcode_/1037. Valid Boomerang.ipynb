{
 "cells": [
  {
   "cell_type": "markdown",
   "id": "9545e8fc",
   "metadata": {},
   "source": [
    "**[From Leetcode: 1037. Valid Boomerang](https://leetcode.com/problems/valid-boomerang)**\n",
    "\n",
    "<div class=\"xFUwe\" data-track-load=\"description_content\"><p>Given an array <code>points</code> where <code>points[i] = [x<sub>i</sub>, y<sub>i</sub>]</code> represents a point on the <strong>X-Y</strong> plane, return <code>true</code> <em>if these points are a <strong>boomerang</strong></em>.</p>\n",
    "\n",
    "<p>A <strong>boomerang</strong> is a set of three points that are <strong>all distinct</strong> and <strong>not in a straight line</strong>.</p>\n",
    "\n",
    "<p>&nbsp;</p>\n",
    "<p><strong class=\"example\">Example 1:</strong></p>\n",
    "<pre><strong>Input:</strong> points = [[1,1],[2,3],[3,2]]\n",
    "<strong>Output:</strong> true\n",
    "</pre><p><strong class=\"example\">Example 2:</strong></p>\n",
    "<pre><strong>Input:</strong> points = [[1,1],[2,2],[3,3]]\n",
    "<strong>Output:</strong> false\n",
    "</pre>\n",
    "<p>&nbsp;</p>\n",
    "<p><strong>Constraints:</strong></p>\n",
    "\n",
    "<ul>\n",
    "\t<li><code>points.length == 3</code></li>\n",
    "\t<li><code>points[i].length == 2</code></li>\n",
    "\t<li><code>0 &lt;= x<sub>i</sub>, y<sub>i</sub> &lt;= 100</code></li>\n",
    "</ul>\n",
    "</div>"
   ]
  },
  {
   "cell_type": "code",
   "execution_count": null,
   "id": "9a2a4077",
   "metadata": {},
   "outputs": [],
   "source": [
    "def isBoomerang(points):\n",
    "    try:\n",
    "        a = (points[0][0] - points[1][0]) / (points[0][1] - points[1][1])\n",
    "    except:\n",
    "        a = (points[0][0] - points[1][0])\n",
    "        if a == 0: return False\n",
    "    \n",
    "    try:\n",
    "        b = (points[2][0] - points[1][0]) / (points[2][1] - points[1][1])\n",
    "    except:\n",
    "        b = (points[2][0] - points[1][0])\n",
    "        if b == 0: return False\n",
    "        \n",
    "    print(a, b)\n",
    "    if a == b: return False\n",
    "    \n",
    "    return True\n",
    "    \n",
    "isBoomerang([[0,1],[1,0],[0,2]])"
   ]
  }
 ],
 "metadata": {},
 "nbformat": 4,
 "nbformat_minor": 5
}
