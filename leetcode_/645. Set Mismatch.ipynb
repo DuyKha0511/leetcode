{
 "cells": [
  {
   "cell_type": "markdown",
   "id": "3f3cbc98",
   "metadata": {},
   "source": [
    "**[From Leetcode: 645. Set Mismatch](https://leetcode.com/problems/set-mismatch)**\n",
    "\n",
    "<div class=\"xFUwe\" data-track-load=\"description_content\"><p>You have a set of integers <code>s</code>, which originally contains all the numbers from <code>1</code> to <code>n</code>. Unfortunately, due to some error, one of the numbers in <code>s</code> got duplicated to another number in the set, which results in <strong>repetition of one</strong> number and <strong>loss of another</strong> number.</p>\n",
    "\n",
    "<p>You are given an integer array <code>nums</code> representing the data status of this set after the error.</p>\n",
    "\n",
    "<p>Find the number that occurs twice and the number that is missing and return <em>them in the form of an array</em>.</p>\n",
    "\n",
    "<p>&nbsp;</p>\n",
    "<p><strong class=\"example\">Example 1:</strong></p>\n",
    "<pre><strong>Input:</strong> nums = [1,2,2,4]\n",
    "<strong>Output:</strong> [2,3]\n",
    "</pre><p><strong class=\"example\">Example 2:</strong></p>\n",
    "<pre><strong>Input:</strong> nums = [1,1]\n",
    "<strong>Output:</strong> [1,2]\n",
    "</pre>\n",
    "<p>&nbsp;</p>\n",
    "<p><strong>Constraints:</strong></p>\n",
    "\n",
    "<ul>\n",
    "\t<li><code>2 &lt;= nums.length &lt;= 10<sup>4</sup></code></li>\n",
    "\t<li><code>1 &lt;= nums[i] &lt;= 10<sup>4</sup></code></li>\n",
    "</ul>\n",
    "</div>"
   ]
  },
  {
   "cell_type": "code",
   "execution_count": null,
   "id": "a22d72be",
   "metadata": {},
   "outputs": [],
   "source": [
    "def findErrorNums(nums):\n",
    "    nums_ = {}\n",
    "    sum_ = 0\n",
    "    dup_ = 0\n",
    "    for i in range(len(nums)):\n",
    "        sum_ += nums[i] - i - 1\n",
    "        if nums[i] in nums_:\n",
    "            dup_ = nums[i]\n",
    "        else:\n",
    "            nums_[nums[i]] = 0\n",
    "        \n",
    "    return dup_, dup_ - sum_\n",
    "\n",
    "\n",
    "findErrorNums([1,2,2,5,4])\n",
    "            "
   ]
  }
 ],
 "metadata": {},
 "nbformat": 4,
 "nbformat_minor": 5
}
