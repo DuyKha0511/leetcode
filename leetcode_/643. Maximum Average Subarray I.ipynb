{
 "cells": [
  {
   "cell_type": "markdown",
   "id": "33755cc7",
   "metadata": {},
   "source": [
    "**[From Leetcode: 643. Maximum Average Subarray I](https://leetcode.com/problems/maximum-average-subarray-i)**\n",
    "\n",
    "<div class=\"xFUwe\" data-track-load=\"description_content\"><p>You are given an integer array <code>nums</code> consisting of <code>n</code> elements, and an integer <code>k</code>.</p>\n",
    "\n",
    "<p>Find a contiguous subarray whose <strong>length is equal to</strong> <code>k</code> that has the maximum average value and return <em>this value</em>. Any answer with a calculation error less than <code>10<sup>-5</sup></code> will be accepted.</p>\n",
    "\n",
    "<p>&nbsp;</p>\n",
    "<p><strong class=\"example\">Example 1:</strong></p>\n",
    "\n",
    "<pre><strong>Input:</strong> nums = [1,12,-5,-6,50,3], k = 4\n",
    "<strong>Output:</strong> 12.75000\n",
    "<strong>Explanation:</strong> Maximum average is (12 - 5 - 6 + 50) / 4 = 51 / 4 = 12.75\n",
    "</pre>\n",
    "\n",
    "<p><strong class=\"example\">Example 2:</strong></p>\n",
    "\n",
    "<pre><strong>Input:</strong> nums = [5], k = 1\n",
    "<strong>Output:</strong> 5.00000\n",
    "</pre>\n",
    "\n",
    "<p>&nbsp;</p>\n",
    "<p><strong>Constraints:</strong></p>\n",
    "\n",
    "<ul>\n",
    "\t<li><code>n == nums.length</code></li>\n",
    "\t<li><code>1 &lt;= k &lt;= n &lt;= 10<sup>5</sup></code></li>\n",
    "\t<li><code>-10<sup>4</sup> &lt;= nums[i] &lt;= 10<sup>4</sup></code></li>\n",
    "</ul>\n",
    "</div>"
   ]
  },
  {
   "cell_type": "code",
   "execution_count": null,
   "id": "a5098c0b",
   "metadata": {},
   "outputs": [],
   "source": [
    "def findMaxAverage(nums, k):\n",
    "    sum_ = nums[-k]\n",
    "    for i in range(-k + 1, 0, 1):\n",
    "        sum_ += nums[i]\n",
    "\n",
    "    max_ = sum_\n",
    "    a = nums[-1]\n",
    "    for i in range(-k - 1, -len(nums) - 1, -1):\n",
    "        sum_ += nums[i] - a\n",
    "        a = nums[i + k - 1]\n",
    "        if sum_ > max_:\n",
    "            max_ = sum_\n",
    "    \n",
    "    return max_ * 1.0 / k\n",
    "\n",
    "nums = [8860,-853,6534,4477,-4589,8646,-6155,-5577,-1656,-5779,-2619,-8604,-1358,-8009,4983,7063,3104,-1560,4080,2763,5616,-2375,2848,1394,-7173,-5225,-8244,-809,8025,-4072,-4391,-9579,1407,6700,2421,-6685,5481,-1732,-8892,-6645,3077,3287,-4149,8701,-4393,-9070,-1777,2237,-3253,-506,-4931,-7366,-8132,5406,-6300,-275,-1908,67,3569,1433,-7262,-437,8303,4498,-379,3054,-6285,4203,6908,4433,3077,2288,9733,-8067,3007,9725,9669,1362,-2561,-4225,5442,-9006,-429,160,-9234,-4444,3586,-5711,-9506,-79,-4418,-4348,-5891]\n",
    "findMaxAverage(nums, k = 93)"
   ]
  }
 ],
 "metadata": {},
 "nbformat": 4,
 "nbformat_minor": 5
}
