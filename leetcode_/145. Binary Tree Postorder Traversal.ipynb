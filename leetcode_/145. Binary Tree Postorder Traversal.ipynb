{
 "cells": [
  {
   "cell_type": "markdown",
   "id": "02f5a0df",
   "metadata": {},
   "source": [
    "**[From Leetcode: 145. Binary Tree Postorder Traversal](https://leetcode.com/problems/binary-tree-postorder-traversal)**\n",
    "\n",
    "<div class=\"xFUwe\" data-track-load=\"description_content\"><p>Given the <code>root</code> of a&nbsp;binary tree, return <em>the postorder traversal of its nodes' values</em>.</p>\n",
    "\n",
    "<p>&nbsp;</p>\n",
    "<p><strong class=\"example\">Example 1:</strong></p>\n",
    "<img alt=\"\" src=\"https://assets.leetcode.com/uploads/2020/08/28/pre1.jpg\" style=\"width: 127px; height: 200px;\">\n",
    "<pre><strong>Input:</strong> root = [1,null,2,3]\n",
    "<strong>Output:</strong> [3,2,1]\n",
    "</pre>\n",
    "\n",
    "<p><strong class=\"example\">Example 2:</strong></p>\n",
    "\n",
    "<pre><strong>Input:</strong> root = []\n",
    "<strong>Output:</strong> []\n",
    "</pre>\n",
    "\n",
    "<p><strong class=\"example\">Example 3:</strong></p>\n",
    "\n",
    "<pre><strong>Input:</strong> root = [1]\n",
    "<strong>Output:</strong> [1]\n",
    "</pre>\n",
    "\n",
    "<p>&nbsp;</p>\n",
    "<p><strong>Constraints:</strong></p>\n",
    "\n",
    "<ul>\n",
    "\t<li>The number of the nodes in the tree is in the range <code>[0, 100]</code>.</li>\n",
    "\t<li><code>-100 &lt;= Node.val &lt;= 100</code></li>\n",
    "</ul>\n",
    "\n",
    "<p>&nbsp;</p>\n",
    "<strong>Follow up:</strong> Recursive solution is trivial, could you do it iteratively?</div>"
   ]
  },
  {
   "cell_type": "code",
   "execution_count": null,
   "id": "11313301",
   "metadata": {},
   "outputs": [],
   "source": [
    "class Solution(object):\n",
    "    def postorderTraversal(self, root):\n",
    "        visited = []\n",
    "        self.postorder(root, visited)\n",
    "        return visited\n",
    "\n",
    "    def postorder(self, root, visited):\n",
    "        if root != None:\n",
    "            self.postorder(root.left, visited)\n",
    "            self.postorder(root.right, visited)\n",
    "            visited.append(root.val)"
   ]
  }
 ],
 "metadata": {},
 "nbformat": 4,
 "nbformat_minor": 5
}
