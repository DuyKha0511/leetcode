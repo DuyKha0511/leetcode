{
 "cells": [
  {
   "cell_type": "markdown",
   "id": "5a49069b",
   "metadata": {},
   "source": [
    "**[From Leetcode: 976. Largest Perimeter Triangle](https://leetcode.com/problems/largest-perimeter-triangle)**\n",
    "\n",
    "<div class=\"xFUwe\" data-track-load=\"description_content\"><p>Given an integer array <code>nums</code>, return <em>the largest perimeter of a triangle with a non-zero area, formed from three of these lengths</em>. If it is impossible to form any triangle of a non-zero area, return <code>0</code>.</p>\n",
    "\n",
    "<p>&nbsp;</p>\n",
    "<p><strong class=\"example\">Example 1:</strong></p>\n",
    "\n",
    "<pre><strong>Input:</strong> nums = [2,1,2]\n",
    "<strong>Output:</strong> 5\n",
    "<strong>Explanation:</strong> You can form a triangle with three side lengths: 1, 2, and 2.\n",
    "</pre>\n",
    "\n",
    "<p><strong class=\"example\">Example 2:</strong></p>\n",
    "\n",
    "<pre><strong>Input:</strong> nums = [1,2,1,10]\n",
    "<strong>Output:</strong> 0\n",
    "<strong>Explanation:</strong> \n",
    "You cannot use the side lengths 1, 1, and 2 to form a triangle.\n",
    "You cannot use the side lengths 1, 1, and 10 to form a triangle.\n",
    "You cannot use the side lengths 1, 2, and 10 to form a triangle.\n",
    "As we cannot use any three side lengths to form a triangle of non-zero area, we return 0.\n",
    "</pre>\n",
    "\n",
    "<p>&nbsp;</p>\n",
    "<p><strong>Constraints:</strong></p>\n",
    "\n",
    "<ul>\n",
    "\t<li><code>3 &lt;= nums.length &lt;= 10<sup>4</sup></code></li>\n",
    "\t<li><code>1 &lt;= nums[i] &lt;= 10<sup>6</sup></code></li>\n",
    "</ul>\n",
    "</div>"
   ]
  },
  {
   "cell_type": "code",
   "execution_count": null,
   "id": "4cd6c725",
   "metadata": {},
   "outputs": [],
   "source": [
    "def largestPerimeter(nums):\n",
    "    nums = sorted(nums)\n",
    "    \n",
    "    for i in range(len(nums) - 1, 1, -1):\n",
    "        if nums[i - 1] + nums[i - 2] > nums[i]:\n",
    "            return nums[i] + nums[i - 1] + nums[i - 2]\n",
    "    \n",
    "    return 0\n",
    "        \n",
    "\n",
    "largestPerimeter([1,2,4,5,6,10])\n",
    "    "
   ]
  }
 ],
 "metadata": {},
 "nbformat": 4,
 "nbformat_minor": 5
}
