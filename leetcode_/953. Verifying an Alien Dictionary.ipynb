{
 "cells": [
  {
   "cell_type": "code",
   "execution_count": null,
   "metadata": {},
   "outputs": [],
   "source": [
    "def isAlienSorted(words, order):\n",
    "    order = {order[i]: i for i in range(len(order))}\n",
    "    # print(order)\n",
    "    for i in range(len(words) - 1):\n",
    "        a = words[i]\n",
    "        b = words[i + 1]\n",
    "        min_len = min(len(a), len(b))\n",
    "        for j in range(min_len):\n",
    "            if order[a[j]] == order[b[j]]: continue\n",
    "            \n",
    "            if order[a[j]] > order[b[j]]:\n",
    "                return False\n",
    "            else:\n",
    "                break\n",
    "        else:\n",
    "            if len(a) > len(b): return False\n",
    "        \n",
    "    return True\n",
    "\n",
    "words = [\"apple\", \"app\"]\n",
    "order = \"abcdefghijklmnopqrstuvwxyz\"\n",
    "isAlienSorted(words, order)"
   ]
  }
 ],
 "metadata": {
  "language_info": {
   "name": "python"
  },
  "orig_nbformat": 4
 },
 "nbformat": 4,
 "nbformat_minor": 2
}
