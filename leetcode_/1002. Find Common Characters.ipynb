{
 "cells": [
  {
   "cell_type": "markdown",
   "id": "ead73f7e",
   "metadata": {},
   "source": [
    "**[From Leetcode: 1002. Find Common Characters](https://leetcode.com/problems/find-common-characters)**\n",
    "\n",
    "<div class=\"xFUwe\" data-track-load=\"description_content\"><p>Given a string array <code>words</code>, return <em>an array of all characters that show up in all strings within the </em><code>words</code><em> (including duplicates)</em>. You may return the answer in <strong>any order</strong>.</p>\n",
    "\n",
    "<p>&nbsp;</p>\n",
    "<p><strong class=\"example\">Example 1:</strong></p>\n",
    "<pre><strong>Input:</strong> words = [\"bella\",\"label\",\"roller\"]\n",
    "<strong>Output:</strong> [\"e\",\"l\",\"l\"]\n",
    "</pre><p><strong class=\"example\">Example 2:</strong></p>\n",
    "<pre><strong>Input:</strong> words = [\"cool\",\"lock\",\"cook\"]\n",
    "<strong>Output:</strong> [\"c\",\"o\"]\n",
    "</pre>\n",
    "<p>&nbsp;</p>\n",
    "<p><strong>Constraints:</strong></p>\n",
    "\n",
    "<ul>\n",
    "\t<li><code>1 &lt;= words.length &lt;= 100</code></li>\n",
    "\t<li><code>1 &lt;= words[i].length &lt;= 100</code></li>\n",
    "\t<li><code>words[i]</code> consists of lowercase English letters.</li>\n",
    "</ul>\n",
    "</div>"
   ]
  },
  {
   "cell_type": "code",
   "execution_count": null,
   "id": "37cae414",
   "metadata": {},
   "outputs": [],
   "source": [
    "def commonChars(words):\n",
    "    object_ = {}\n",
    "    i = 1\n",
    "    for word in words:\n",
    "        for letter in word:\n",
    "            if letter not in object_:\n",
    "                object_[letter] = {j : 0 for j in range(1, len(words) + 1)}\n",
    "                object_[letter][i] = 1\n",
    "            else:\n",
    "                object_[letter][i] += 1\n",
    "                \n",
    "        i += 1\n",
    "        \n",
    "    res = []\n",
    "    for key in object_.keys():\n",
    "        sum_ = sum(object_[key].values())\n",
    "        min_ = min(object_[key].values())\n",
    "        if sum_ / len(words) >= min_ and min_ != 0:\n",
    "            [ res.append(key) for _ in range(min_) ]\n",
    "        \n",
    "    return res\n",
    "    \n",
    "commonChars([\"bbddabab\",\"cbcddbdd\",\"bbcadcab\",\"dabcacad\",\"cddcacbc\",\"ccbdbcba\",\"cbddaccc\",\"accdcdbb\"])"
   ]
  }
 ],
 "metadata": {},
 "nbformat": 4,
 "nbformat_minor": 5
}
