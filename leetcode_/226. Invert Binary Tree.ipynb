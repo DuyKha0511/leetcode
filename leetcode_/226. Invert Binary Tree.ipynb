{
 "cells": [
  {
   "cell_type": "markdown",
   "id": "85d1a305",
   "metadata": {},
   "source": [
    "**[From Leetcode: 226. Invert Binary Tree](https://leetcode.com/problems/invert-binary-tree)**\n",
    "\n",
    "<div class=\"xFUwe\" data-track-load=\"description_content\"><p>Given the <code>root</code> of a binary tree, invert the tree, and return <em>its root</em>.</p>\n",
    "\n",
    "<p>&nbsp;</p>\n",
    "<p><strong class=\"example\">Example 1:</strong></p>\n",
    "<img alt=\"\" src=\"https://assets.leetcode.com/uploads/2021/03/14/invert1-tree.jpg\" style=\"width: 500px; height: 165px;\">\n",
    "<pre><strong>Input:</strong> root = [4,2,7,1,3,6,9]\n",
    "<strong>Output:</strong> [4,7,2,9,6,3,1]\n",
    "</pre>\n",
    "\n",
    "<p><strong class=\"example\">Example 2:</strong></p>\n",
    "<img alt=\"\" src=\"https://assets.leetcode.com/uploads/2021/03/14/invert2-tree.jpg\" style=\"width: 500px; height: 120px;\">\n",
    "<pre><strong>Input:</strong> root = [2,1,3]\n",
    "<strong>Output:</strong> [2,3,1]\n",
    "</pre>\n",
    "\n",
    "<p><strong class=\"example\">Example 3:</strong></p>\n",
    "\n",
    "<pre><strong>Input:</strong> root = []\n",
    "<strong>Output:</strong> []\n",
    "</pre>\n",
    "\n",
    "<p>&nbsp;</p>\n",
    "<p><strong>Constraints:</strong></p>\n",
    "\n",
    "<ul>\n",
    "\t<li>The number of nodes in the tree is in the range <code>[0, 100]</code>.</li>\n",
    "\t<li><code>-100 &lt;= Node.val &lt;= 100</code></li>\n",
    "</ul>\n",
    "</div>"
   ]
  },
  {
   "cell_type": "code",
   "execution_count": null,
   "id": "dab9824a",
   "metadata": {},
   "outputs": [],
   "source": [
    "class Solution(object):\n",
    "    def invertTree(self, root):\n",
    "        \"\"\"\n",
    "        :type root: TreeNode\n",
    "        :rtype: TreeNode\n",
    "        \"\"\"\n",
    "        if root is not None:\n",
    "            self.invertTree(root.left)\n",
    "            self.invertTree(root.right)\n",
    "            root.left, root.right = root.right, root.left\n",
    "\n",
    "        return root"
   ]
  }
 ],
 "metadata": {},
 "nbformat": 4,
 "nbformat_minor": 5
}
