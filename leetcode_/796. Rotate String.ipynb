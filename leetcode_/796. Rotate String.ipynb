{
 "cells": [
  {
   "cell_type": "markdown",
   "id": "7cd8d90f",
   "metadata": {},
   "source": [
    "**[From Leetcode: 796. Rotate String](https://leetcode.com/problems/rotate-string)**\n",
    "\n",
    "<div class=\"xFUwe\" data-track-load=\"description_content\"><p>Given two strings <code>s</code> and <code>goal</code>, return <code>true</code> <em>if and only if</em> <code>s</code> <em>can become</em> <code>goal</code> <em>after some number of <strong>shifts</strong> on</em> <code>s</code>.</p>\n",
    "\n",
    "<p>A <strong>shift</strong> on <code>s</code> consists of moving the leftmost character of <code>s</code> to the rightmost position.</p>\n",
    "\n",
    "<ul>\n",
    "\t<li>For example, if <code>s = \"abcde\"</code>, then it will be <code>\"bcdea\"</code> after one shift.</li>\n",
    "</ul>\n",
    "\n",
    "<p>&nbsp;</p>\n",
    "<p><strong class=\"example\">Example 1:</strong></p>\n",
    "<pre><strong>Input:</strong> s = \"abcde\", goal = \"cdeab\"\n",
    "<strong>Output:</strong> true\n",
    "</pre><p><strong class=\"example\">Example 2:</strong></p>\n",
    "<pre><strong>Input:</strong> s = \"abcde\", goal = \"abced\"\n",
    "<strong>Output:</strong> false\n",
    "</pre>\n",
    "<p>&nbsp;</p>\n",
    "<p><strong>Constraints:</strong></p>\n",
    "\n",
    "<ul>\n",
    "\t<li><code>1 &lt;= s.length, goal.length &lt;= 100</code></li>\n",
    "\t<li><code>s</code> and <code>goal</code> consist of lowercase English letters.</li>\n",
    "</ul>\n",
    "</div>"
   ]
  },
  {
   "cell_type": "code",
   "execution_count": null,
   "id": "ed091411",
   "metadata": {},
   "outputs": [],
   "source": [
    "def rotateString(s, goal):\n",
    "    len_ = len(s)\n",
    "    for _ in range(len_):\n",
    "        if s == goal:\n",
    "            return True\n",
    "        s = s[1:] + s[0]\n",
    "    \n",
    "    return False\n",
    "    \n",
    "rotateString('abcde', 'bcdea')"
   ]
  }
 ],
 "metadata": {
  "language_info": {
   "name": "python"
  }
 },
 "nbformat": 4,
 "nbformat_minor": 5
}
