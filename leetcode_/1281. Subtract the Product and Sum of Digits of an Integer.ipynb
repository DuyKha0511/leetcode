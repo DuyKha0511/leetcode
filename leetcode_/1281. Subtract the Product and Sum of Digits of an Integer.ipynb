{
 "cells": [
  {
   "cell_type": "markdown",
   "id": "04d137e0",
   "metadata": {},
   "source": [
    "**[From Leetcode: 1281. Subtract the Product and Sum of Digits of an Integer](https://leetcode.com/problems/subtract-the-product-and-sum-of-digits-of-an-integer)**\n",
    "\n",
    "<div class=\"xFUwe\" data-track-load=\"description_content\">Given an integer number <code>n</code>, return the difference between the product of its digits and the sum of its digits.\n",
    "<p>&nbsp;</p>\n",
    "<p><strong class=\"example\">Example 1:</strong></p>\n",
    "\n",
    "<pre><strong>Input:</strong> n = 234\n",
    "<strong>Output:</strong> 15 \n",
    "<b>Explanation:</b> \n",
    "Product of digits = 2 * 3 * 4 = 24 \n",
    "Sum of digits = 2 + 3 + 4 = 9 \n",
    "Result = 24 - 9 = 15\n",
    "</pre>\n",
    "\n",
    "<p><strong class=\"example\">Example 2:</strong></p>\n",
    "\n",
    "<pre><strong>Input:</strong> n = 4421\n",
    "<strong>Output:</strong> 21\n",
    "<b>Explanation: \n",
    "</b>Product of digits = 4 * 4 * 2 * 1 = 32 \n",
    "Sum of digits = 4 + 4 + 2 + 1 = 11 \n",
    "Result = 32 - 11 = 21\n",
    "</pre>\n",
    "\n",
    "<p>&nbsp;</p>\n",
    "<p><strong>Constraints:</strong></p>\n",
    "\n",
    "<ul>\n",
    "\t<li><code>1 &lt;= n &lt;= 10^5</code></li>\n",
    "</ul>\n",
    "</div>"
   ]
  },
  {
   "cell_type": "code",
   "execution_count": null,
   "id": "618faebe",
   "metadata": {},
   "outputs": [],
   "source": [
    "class Solution(object):\n",
    "    def subtractProductAndSum(self, n):\n",
    "        \"\"\"\n",
    "        :type n: int\n",
    "        :rtype: int\n",
    "        \"\"\"\n",
    "        sum_ = 0\n",
    "        product = 1\n",
    "\n",
    "        while n != 0:\n",
    "            sum_ += n % 10\n",
    "            product *= n % 10\n",
    "            n = n // 10\n",
    "\n",
    "        return product - sum_"
   ]
  }
 ],
 "metadata": {},
 "nbformat": 4,
 "nbformat_minor": 5
}
