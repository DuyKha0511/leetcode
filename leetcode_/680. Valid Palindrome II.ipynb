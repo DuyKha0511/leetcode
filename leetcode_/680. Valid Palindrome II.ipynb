{
 "cells": [
  {
   "cell_type": "markdown",
   "id": "780a9181",
   "metadata": {},
   "source": [
    "**[From Leetcode: 680. Valid Palindrome II](https://leetcode.com/problems/valid-palindrome-ii)**\n",
    "\n",
    "<div class=\"xFUwe\" data-track-load=\"description_content\"><p>Given a string <code>s</code>, return <code>true</code> <em>if the </em><code>s</code><em> can be palindrome after deleting <strong>at most one</strong> character from it</em>.</p>\n",
    "\n",
    "<p>&nbsp;</p>\n",
    "<p><strong class=\"example\">Example 1:</strong></p>\n",
    "\n",
    "<pre><strong>Input:</strong> s = \"aba\"\n",
    "<strong>Output:</strong> true\n",
    "</pre>\n",
    "\n",
    "<p><strong class=\"example\">Example 2:</strong></p>\n",
    "\n",
    "<pre><strong>Input:</strong> s = \"abca\"\n",
    "<strong>Output:</strong> true\n",
    "<strong>Explanation:</strong> You could delete the character 'c'.\n",
    "</pre>\n",
    "\n",
    "<p><strong class=\"example\">Example 3:</strong></p>\n",
    "\n",
    "<pre><strong>Input:</strong> s = \"abc\"\n",
    "<strong>Output:</strong> false\n",
    "</pre>\n",
    "\n",
    "<p>&nbsp;</p>\n",
    "<p><strong>Constraints:</strong></p>\n",
    "\n",
    "<ul>\n",
    "\t<li><code>1 &lt;= s.length &lt;= 10<sup>5</sup></code></li>\n",
    "\t<li><code>s</code> consists of lowercase English letters.</li>\n",
    "</ul>\n",
    "</div>"
   ]
  },
  {
   "cell_type": "code",
   "execution_count": null,
   "id": "7d7213eb",
   "metadata": {},
   "outputs": [],
   "source": [
    "def validPalindrome(s):\n",
    "    i = 0\n",
    "    j = len(s) - 1\n",
    "    while i < j:\n",
    "        print(s[i], s[j])"
   ]
  }
 ],
 "metadata": {},
 "nbformat": 4,
 "nbformat_minor": 5
}
