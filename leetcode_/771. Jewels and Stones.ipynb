{
 "cells": [
  {
   "cell_type": "markdown",
   "id": "6aa84717",
   "metadata": {},
   "source": [
    "**[From Leetcode: 771. Jewels and Stones](https://leetcode.com/problems/jewels-and-stones)**\n",
    "\n",
    "<div class=\"xFUwe\" data-track-load=\"description_content\"><p>You're given strings <code>jewels</code> representing the types of stones that are jewels, and <code>stones</code> representing the stones you have. Each character in <code>stones</code> is a type of stone you have. You want to know how many of the stones you have are also jewels.</p>\n",
    "\n",
    "<p>Letters are case sensitive, so <code>\"a\"</code> is considered a different type of stone from <code>\"A\"</code>.</p>\n",
    "\n",
    "<p>&nbsp;</p>\n",
    "<p><strong class=\"example\">Example 1:</strong></p>\n",
    "<pre><strong>Input:</strong> jewels = \"aA\", stones = \"aAAbbbb\"\n",
    "<strong>Output:</strong> 3\n",
    "</pre><p><strong class=\"example\">Example 2:</strong></p>\n",
    "<pre><strong>Input:</strong> jewels = \"z\", stones = \"ZZ\"\n",
    "<strong>Output:</strong> 0\n",
    "</pre>\n",
    "<p>&nbsp;</p>\n",
    "<p><strong>Constraints:</strong></p>\n",
    "\n",
    "<ul>\n",
    "\t<li><code>1 &lt;=&nbsp;jewels.length, stones.length &lt;= 50</code></li>\n",
    "\t<li><code>jewels</code> and <code>stones</code> consist of only English letters.</li>\n",
    "\t<li>All the characters of&nbsp;<code>jewels</code> are <strong>unique</strong>.</li>\n",
    "</ul>\n",
    "</div>"
   ]
  },
  {
   "cell_type": "code",
   "execution_count": null,
   "id": "1bc02995",
   "metadata": {},
   "outputs": [],
   "source": [
    "def numJewelsInStones(jewels, stones):\n",
    "    \n",
    "    count = 0\n",
    "    for stone in stones:\n",
    "        if stone in jewels:\n",
    "            count += 1\n",
    "            \n",
    "    return count"
   ]
  }
 ],
 "metadata": {},
 "nbformat": 4,
 "nbformat_minor": 5
}
