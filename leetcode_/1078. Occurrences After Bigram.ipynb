{
 "cells": [
  {
   "cell_type": "markdown",
   "id": "d63b6b9d",
   "metadata": {},
   "source": [
    "**[From Leetcode: 1078. Occurrences After Bigram](https://leetcode.com/problems/occurrences-after-bigram)**\n",
    "\n",
    "<div class=\"xFUwe\" data-track-load=\"description_content\"><p>Given two strings <code>first</code> and <code>second</code>, consider occurrences in some text of the form <code>\"first second third\"</code>, where <code>second</code> comes immediately after <code>first</code>, and <code>third</code> comes immediately after <code>second</code>.</p>\n",
    "\n",
    "<p>Return <em>an array of all the words</em> <code>third</code> <em>for each occurrence of</em> <code>\"first second third\"</code>.</p>\n",
    "\n",
    "<p>&nbsp;</p>\n",
    "<p><strong class=\"example\">Example 1:</strong></p>\n",
    "<pre><strong>Input:</strong> text = \"alice is a good girl she is a good student\", first = \"a\", second = \"good\"\n",
    "<strong>Output:</strong> [\"girl\",\"student\"]\n",
    "</pre><p><strong class=\"example\">Example 2:</strong></p>\n",
    "<pre><strong>Input:</strong> text = \"we will we will rock you\", first = \"we\", second = \"will\"\n",
    "<strong>Output:</strong> [\"we\",\"rock\"]\n",
    "</pre>\n",
    "<p>&nbsp;</p>\n",
    "<p><strong>Constraints:</strong></p>\n",
    "\n",
    "<ul>\n",
    "\t<li><code>1 &lt;= text.length &lt;= 1000</code></li>\n",
    "\t<li><code>text</code> consists of lowercase English letters and spaces.</li>\n",
    "\t<li>All the words in <code>text</code> a separated by <strong>a single space</strong>.</li>\n",
    "\t<li><code>1 &lt;= first.length, second.length &lt;= 10</code></li>\n",
    "\t<li><code>first</code> and <code>second</code> consist of lowercase English letters.</li>\n",
    "</ul>\n",
    "</div>"
   ]
  },
  {
   "cell_type": "code",
   "execution_count": null,
   "id": "f5c5e755",
   "metadata": {},
   "outputs": [],
   "source": [
    "def findOcurrences(text, first, second):\n",
    "    words = text.split(' ')\n",
    "    res_ = []\n",
    "    \n",
    "    for i in range(0, len(words) - 2):\n",
    "        if words[i] == first and words[i + 1] == second:\n",
    "            res_.append(words[i + 2])\n",
    "            \n",
    "    return res_\n",
    "\n",
    "findOcurrences(text = \"we will we will enroll rock\", first = \"we\", second = \"will\")\n",
    "        "
   ]
  }
 ],
 "metadata": {},
 "nbformat": 4,
 "nbformat_minor": 5
}
