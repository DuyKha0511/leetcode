{
 "cells": [
  {
   "cell_type": "markdown",
   "id": "f6e7f497",
   "metadata": {},
   "source": [
    "**[From Leetcode: 867. Transpose Matrix](https://leetcode.com/problems/transpose-matrix)**\n",
    "\n",
    "<div class=\"animate-pulse flex w-full flex-col gap-6\"><div class=\"flex w-full flex-col gap-2\"><div class=\"rounded-[5px] bg-fill-3 dark:bg-dark-fill-3 h-4 w-full\"></div><div class=\"rounded-[5px] bg-fill-3 dark:bg-dark-fill-3 h-4 w-full\"></div><div class=\"rounded-[5px] bg-fill-3 dark:bg-dark-fill-3 h-4 w-1/2\"></div></div><div class=\"flex w-full flex-col gap-2\"><div class=\"rounded-[5px] bg-fill-3 dark:bg-dark-fill-3 h-4 w-full\"></div><div class=\"rounded-[5px] bg-fill-3 dark:bg-dark-fill-3 h-4 w-full\"></div><div class=\"rounded-[5px] bg-fill-3 dark:bg-dark-fill-3 h-4 w-1/2\"></div></div><div class=\"flex w-full flex-col gap-2\"><div class=\"rounded-[5px] bg-fill-3 dark:bg-dark-fill-3 h-4 w-full\"></div><div class=\"rounded-[5px] bg-fill-3 dark:bg-dark-fill-3 h-4 w-full\"></div><div class=\"rounded-[5px] bg-fill-3 dark:bg-dark-fill-3 h-4 w-1/2\"></div></div><div class=\"h-[500px] w-full\"></div></div>"
   ]
  },
  {
   "cell_type": "code",
   "execution_count": null,
   "id": "854e066f",
   "metadata": {},
   "outputs": [],
   "source": [
    "class Solution(object):\n",
    "    def transpose(self, matrix):\n",
    "        return [[matrix[j][i] for j in range(len(matrix))] for i in range(len(matrix[0]))]\n"
   ]
  }
 ],
 "metadata": {},
 "nbformat": 4,
 "nbformat_minor": 5
}
