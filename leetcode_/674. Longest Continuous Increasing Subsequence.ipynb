{
 "cells": [
  {
   "cell_type": "markdown",
   "id": "e0aa9aac",
   "metadata": {},
   "source": [
    "**[From Leetcode: 674. Longest Continuous Increasing Subsequence](https://leetcode.com/problems/longest-continuous-increasing-subsequence)**\n",
    "\n",
    "<div class=\"xFUwe\" data-track-load=\"description_content\"><p>Given an unsorted array of integers <code>nums</code>, return <em>the length of the longest <strong>continuous increasing subsequence</strong> (i.e. subarray)</em>. The subsequence must be <strong>strictly</strong> increasing.</p>\n",
    "\n",
    "<p>A <strong>continuous increasing subsequence</strong> is defined by two indices <code>l</code> and <code>r</code> (<code>l &lt; r</code>) such that it is <code>[nums[l], nums[l + 1], ..., nums[r - 1], nums[r]]</code> and for each <code>l &lt;= i &lt; r</code>, <code>nums[i] &lt; nums[i + 1]</code>.</p>\n",
    "\n",
    "<p>&nbsp;</p>\n",
    "<p><strong class=\"example\">Example 1:</strong></p>\n",
    "\n",
    "<pre><strong>Input:</strong> nums = [1,3,5,4,7]\n",
    "<strong>Output:</strong> 3\n",
    "<strong>Explanation:</strong> The longest continuous increasing subsequence is [1,3,5] with length 3.\n",
    "Even though [1,3,5,7] is an increasing subsequence, it is not continuous as elements 5 and 7 are separated by element\n",
    "4.\n",
    "</pre>\n",
    "\n",
    "<p><strong class=\"example\">Example 2:</strong></p>\n",
    "\n",
    "<pre><strong>Input:</strong> nums = [2,2,2,2,2]\n",
    "<strong>Output:</strong> 1\n",
    "<strong>Explanation:</strong> The longest continuous increasing subsequence is [2] with length 1. Note that it must be strictly\n",
    "increasing.\n",
    "</pre>\n",
    "\n",
    "<p>&nbsp;</p>\n",
    "<p><strong>Constraints:</strong></p>\n",
    "\n",
    "<ul>\n",
    "\t<li><code>1 &lt;= nums.length &lt;= 10<sup>4</sup></code></li>\n",
    "\t<li><code>-10<sup>9</sup> &lt;= nums[i] &lt;= 10<sup>9</sup></code></li>\n",
    "</ul>\n",
    "</div>"
   ]
  },
  {
   "cell_type": "code",
   "execution_count": null,
   "id": "0dddf215",
   "metadata": {},
   "outputs": [],
   "source": [
    "def findLengthOfLCIS(nums):\n",
    "    length_ = 1\n",
    "    max_length_ = 1\n",
    "    for i in range(1, len(nums)):\n",
    "        if nums[i] > nums[i - 1]:\n",
    "            length_ += 1\n",
    "        else:\n",
    "            if length_ > max_length_:\n",
    "                max_length_ = length_\n",
    "            length_ = 1\n",
    "    return max(max_length_, length_)\n",
    "\n",
    "findLengthOfLCIS([1,3,5,7])"
   ]
  }
 ],
 "metadata": {
  "language_info": {
   "name": "python"
  }
 },
 "nbformat": 4,
 "nbformat_minor": 5
}
