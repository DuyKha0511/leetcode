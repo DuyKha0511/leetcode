{
 "cells": [
  {
   "cell_type": "markdown",
   "id": "7f9f82d9",
   "metadata": {},
   "source": [
    "**[From Leetcode: 507. Perfect Number](https://leetcode.com/problems/perfect-number)**\n",
    "\n",
    "<div class=\"xFUwe\" data-track-load=\"description_content\"><p>A <a href=\"https://en.wikipedia.org/wiki/Perfect_number\" target=\"_blank\"><strong>perfect number</strong></a> is a <strong>positive integer</strong> that is equal to the sum of its <strong>positive divisors</strong>, excluding the number itself. A <strong>divisor</strong> of an integer <code>x</code> is an integer that can divide <code>x</code> evenly.</p>\n",
    "\n",
    "<p>Given an integer <code>n</code>, return <code>true</code><em> if </em><code>n</code><em> is a perfect number, otherwise return </em><code>false</code>.</p>\n",
    "\n",
    "<p>&nbsp;</p>\n",
    "<p><strong class=\"example\">Example 1:</strong></p>\n",
    "\n",
    "<pre><strong>Input:</strong> num = 28\n",
    "<strong>Output:</strong> true\n",
    "<strong>Explanation:</strong> 28 = 1 + 2 + 4 + 7 + 14\n",
    "1, 2, 4, 7, and 14 are all divisors of 28.\n",
    "</pre>\n",
    "\n",
    "<p><strong class=\"example\">Example 2:</strong></p>\n",
    "\n",
    "<pre><strong>Input:</strong> num = 7\n",
    "<strong>Output:</strong> false\n",
    "</pre>\n",
    "\n",
    "<p>&nbsp;</p>\n",
    "<p><strong>Constraints:</strong></p>\n",
    "\n",
    "<ul>\n",
    "\t<li><code>1 &lt;= num &lt;= 10<sup>8</sup></code></li>\n",
    "</ul>\n",
    "</div>"
   ]
  },
  {
   "cell_type": "code",
   "execution_count": null,
   "id": "3f1dba84",
   "metadata": {},
   "outputs": [],
   "source": [
    "def checkPerfectNumber(num):\n",
    "    i = 2\n",
    "    sum_ = 0\n",
    "    while i * i <= num:\n",
    "        if num % i == 0:\n",
    "            sum_ += i + num // i\n",
    "        i += 1\n",
    "            \n",
    "    return sum_ + 1 == num\n",
    "\n",
    "checkPerfectNumber(28)"
   ]
  }
 ],
 "metadata": {},
 "nbformat": 4,
 "nbformat_minor": 5
}
