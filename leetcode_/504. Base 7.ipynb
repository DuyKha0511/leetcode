{
 "cells": [
  {
   "cell_type": "markdown",
   "id": "05ecbd9a",
   "metadata": {},
   "source": [
    "**[From Leetcode: 504. Base 7](https://leetcode.com/problems/base-7)**\n",
    "\n",
    "<div class=\"xFUwe\" data-track-load=\"description_content\"><p>Given an integer <code>num</code>, return <em>a string of its <strong>base 7</strong> representation</em>.</p>\n",
    "\n",
    "<p>&nbsp;</p>\n",
    "<p><strong class=\"example\">Example 1:</strong></p>\n",
    "<pre><strong>Input:</strong> num = 100\n",
    "<strong>Output:</strong> \"202\"\n",
    "</pre><p><strong class=\"example\">Example 2:</strong></p>\n",
    "<pre><strong>Input:</strong> num = -7\n",
    "<strong>Output:</strong> \"-10\"\n",
    "</pre>\n",
    "<p>&nbsp;</p>\n",
    "<p><strong>Constraints:</strong></p>\n",
    "\n",
    "<ul>\n",
    "\t<li><code>-10<sup>7</sup> &lt;= num &lt;= 10<sup>7</sup></code></li>\n",
    "</ul>\n",
    "</div>"
   ]
  },
  {
   "cell_type": "code",
   "execution_count": null,
   "id": "4c8f09ae",
   "metadata": {},
   "outputs": [],
   "source": [
    "def base7(num):\n",
    "    if num == 0: return '0'\n",
    "    \n",
    "    base = ''\n",
    "    if num < 0: \n",
    "        num = -num\n",
    "        flag = '-'\n",
    "    else:\n",
    "        flag = ''\n",
    "    \n",
    "    while num != 0:\n",
    "        base += str(int(num % 7))\n",
    "        num = num // 7\n",
    "        \n",
    "    return flag + base[::-1]\n",
    "\n",
    "base7(-7)"
   ]
  }
 ],
 "metadata": {},
 "nbformat": 4,
 "nbformat_minor": 5
}
