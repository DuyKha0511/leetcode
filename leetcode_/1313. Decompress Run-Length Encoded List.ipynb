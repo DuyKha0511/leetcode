{
 "cells": [
  {
   "cell_type": "markdown",
   "id": "322bc8d1",
   "metadata": {},
   "source": [
    "**[From Leetcode: 1313. Decompress Run-Length Encoded List](https://leetcode.com/problems/decompress-run-length-encoded-list)**\n",
    "\n",
    "<div class=\"xFUwe\" data-track-load=\"description_content\"><p>We are given a list <code>nums</code> of integers representing a list compressed with run-length encoding.</p>\n",
    "\n",
    "<p>Consider each adjacent pair&nbsp;of elements <code>[freq, val] = [nums[2*i], nums[2*i+1]]</code>&nbsp;(with <code>i &gt;= 0</code>).&nbsp; For each such pair, there are <code>freq</code> elements with value <code>val</code> concatenated in a sublist. Concatenate all the sublists from left to right to generate the decompressed list.</p>\n",
    "\n",
    "<p>Return the decompressed list.</p>\n",
    "\n",
    "<p>&nbsp;</p>\n",
    "<p><strong class=\"example\">Example 1:</strong></p>\n",
    "\n",
    "<pre><strong>Input:</strong> nums = [1,2,3,4]\n",
    "<strong>Output:</strong> [2,4,4,4]\n",
    "<strong>Explanation:</strong> The first pair [1,2] means we have freq = 1 and val = 2 so we generate the array [2].\n",
    "The second pair [3,4] means we have freq = 3 and val = 4 so we generate [4,4,4].\n",
    "At the end the concatenation [2] + [4,4,4] is [2,4,4,4].\n",
    "</pre>\n",
    "\n",
    "<p><strong class=\"example\">Example 2:</strong></p>\n",
    "\n",
    "<pre><strong>Input:</strong> nums = [1,1,2,3]\n",
    "<strong>Output:</strong> [1,3,3]\n",
    "</pre>\n",
    "\n",
    "<p>&nbsp;</p>\n",
    "<p><strong>Constraints:</strong></p>\n",
    "\n",
    "<ul>\n",
    "\t<li><code>2 &lt;= nums.length &lt;= 100</code></li>\n",
    "\t<li><code>nums.length % 2 == 0</code></li>\n",
    "\t<li><code><font face=\"monospace\">1 &lt;= nums[i] &lt;= 100</font></code></li>\n",
    "</ul>\n",
    "</div>"
   ]
  },
  {
   "cell_type": "code",
   "execution_count": null,
   "id": "2d4a22d1",
   "metadata": {},
   "outputs": [],
   "source": [
    "class Solution(object):\n",
    "    def decompressRLElist(self, nums):\n",
    "        \"\"\"\n",
    "        :type nums: List[int]\n",
    "        :rtype: List[int]\n",
    "        \"\"\"\n",
    "        results = []\n",
    "        for i in range(1, len(nums), 2):\n",
    "            for j in range(nums[i-1]):\n",
    "                results.append(nums[i])\n",
    "\n",
    "        return results"
   ]
  }
 ],
 "metadata": {},
 "nbformat": 4,
 "nbformat_minor": 5
}
