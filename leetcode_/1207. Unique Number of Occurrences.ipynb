{
 "cells": [
  {
   "cell_type": "markdown",
   "id": "9d247dca",
   "metadata": {},
   "source": [
    "**[From Leetcode: 1207. Unique Number of Occurrences](https://leetcode.com/problems/unique-number-of-occurrences)**\n",
    "\n",
    "<div class=\"xFUwe\" data-track-load=\"description_content\"><p>Given an array of integers <code>arr</code>, return <code>true</code> <em>if the number of occurrences of each value in the array is <strong>unique</strong> or </em><code>false</code><em> otherwise</em>.</p>\n",
    "\n",
    "<p>&nbsp;</p>\n",
    "<p><strong class=\"example\">Example 1:</strong></p>\n",
    "\n",
    "<pre><strong>Input:</strong> arr = [1,2,2,1,1,3]\n",
    "<strong>Output:</strong> true\n",
    "<strong>Explanation:</strong>&nbsp;The value 1 has 3 occurrences, 2 has 2 and 3 has 1. No two values have the same number of occurrences.</pre>\n",
    "\n",
    "<p><strong class=\"example\">Example 2:</strong></p>\n",
    "\n",
    "<pre><strong>Input:</strong> arr = [1,2]\n",
    "<strong>Output:</strong> false\n",
    "</pre>\n",
    "\n",
    "<p><strong class=\"example\">Example 3:</strong></p>\n",
    "\n",
    "<pre><strong>Input:</strong> arr = [-3,0,1,-3,1,1,1,-3,10,0]\n",
    "<strong>Output:</strong> true\n",
    "</pre>\n",
    "\n",
    "<p>&nbsp;</p>\n",
    "<p><strong>Constraints:</strong></p>\n",
    "\n",
    "<ul>\n",
    "\t<li><code>1 &lt;= arr.length &lt;= 1000</code></li>\n",
    "\t<li><code>-1000 &lt;= arr[i] &lt;= 1000</code></li>\n",
    "</ul>\n",
    "</div>"
   ]
  },
  {
   "cell_type": "code",
   "execution_count": null,
   "id": "50ad9180",
   "metadata": {},
   "outputs": [],
   "source": [
    "def uniqueOccurrences(arr):\n",
    "    freqs = {}\n",
    "    for num in arr:\n",
    "        if num not in freqs:\n",
    "            freqs[num] = 1\n",
    "        else:\n",
    "            freqs[num] += 1\n",
    "            \n",
    "    reversed_key_value_freqs = {}\n",
    "    for key in freqs.keys():\n",
    "        reversed_key_value_freqs[freqs[key]] = key\n",
    "    \n",
    "    return len(reversed_key_value_freqs.keys()) == len(freqs.keys())\n",
    "    \n",
    "uniqueOccurrences([1,2])"
   ]
  }
 ],
 "metadata": {},
 "nbformat": 4,
 "nbformat_minor": 5
}
