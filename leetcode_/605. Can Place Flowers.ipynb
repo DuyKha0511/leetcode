{
 "cells": [
  {
   "cell_type": "markdown",
   "id": "572dd170",
   "metadata": {},
   "source": [
    "**[From Leetcode: 605. Can Place Flowers](https://leetcode.com/problems/can-place-flowers)**\n",
    "\n",
    "<div class=\"xFUwe\" data-track-load=\"description_content\"><p>You have a long flowerbed in which some of the plots are planted, and some are not. However, flowers cannot be planted in <strong>adjacent</strong> plots.</p>\n",
    "\n",
    "<p>Given an integer array <code>flowerbed</code> containing <code>0</code>'s and <code>1</code>'s, where <code>0</code> means empty and <code>1</code> means not empty, and an integer <code>n</code>, return <code>true</code>&nbsp;<em>if</em> <code>n</code> <em>new flowers can be planted in the</em> <code>flowerbed</code> <em>without violating the no-adjacent-flowers rule and</em> <code>false</code> <em>otherwise</em>.</p>\n",
    "\n",
    "<p>&nbsp;</p>\n",
    "<p><strong class=\"example\">Example 1:</strong></p>\n",
    "<pre><strong>Input:</strong> flowerbed = [1,0,0,0,1], n = 1\n",
    "<strong>Output:</strong> true\n",
    "</pre><p><strong class=\"example\">Example 2:</strong></p>\n",
    "<pre><strong>Input:</strong> flowerbed = [1,0,0,0,1], n = 2\n",
    "<strong>Output:</strong> false\n",
    "</pre>\n",
    "<p>&nbsp;</p>\n",
    "<p><strong>Constraints:</strong></p>\n",
    "\n",
    "<ul>\n",
    "\t<li><code>1 &lt;= flowerbed.length &lt;= 2 * 10<sup>4</sup></code></li>\n",
    "\t<li><code>flowerbed[i]</code> is <code>0</code> or <code>1</code>.</li>\n",
    "\t<li>There are no two adjacent flowers in <code>flowerbed</code>.</li>\n",
    "\t<li><code>0 &lt;= n &lt;= flowerbed.length</code></li>\n",
    "</ul>\n",
    "</div>"
   ]
  },
  {
   "cell_type": "code",
   "execution_count": null,
   "id": "a0863741",
   "metadata": {},
   "outputs": [],
   "source": [
    "def canPlaceFlowers(flowerbed, n):\n",
    "    \n",
    "    i = 0\n",
    "    while i < len(flowerbed):\n",
    "        a = flowerbed[i - 1] if i > 0 else 0\n",
    "        b = flowerbed[i]\n",
    "        c = flowerbed[i + 1] if i < len(flowerbed) - 1 else 0\n",
    "        \n",
    "        if a + b + c == 0:\n",
    "            n -= 1\n",
    "            i += 2\n",
    "        else:\n",
    "            i += 1\n",
    "            \n",
    "    return n <= 0\n",
    "\n",
    "canPlaceFlowers([0,0,1,0,0], 1)"
   ]
  }
 ],
 "metadata": {},
 "nbformat": 4,
 "nbformat_minor": 5
}
