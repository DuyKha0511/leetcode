{
 "cells": [
  {
   "cell_type": "markdown",
   "id": "28e0284b",
   "metadata": {},
   "source": [
    "**[From Leetcode: 1299. Replace Elements with Greatest Element on Right Side](https://leetcode.com/problems/replace-elements-with-greatest-element-on-right-side)**\n",
    "\n",
    "<div class=\"xFUwe\" data-track-load=\"description_content\"><p>Given an array <code>arr</code>,&nbsp;replace every element in that array with the greatest element among the elements to its&nbsp;right, and replace the last element with <code>-1</code>.</p>\n",
    "\n",
    "<p>After doing so, return the array.</p>\n",
    "\n",
    "<p>&nbsp;</p>\n",
    "<p><strong class=\"example\">Example 1:</strong></p>\n",
    "\n",
    "<pre><strong>Input:</strong> arr = [17,18,5,4,6,1]\n",
    "<strong>Output:</strong> [18,6,6,6,1,-1]\n",
    "<strong>Explanation:</strong> \n",
    "- index 0 --&gt; the greatest element to the right of index 0 is index 1 (18).\n",
    "- index 1 --&gt; the greatest element to the right of index 1 is index 4 (6).\n",
    "- index 2 --&gt; the greatest element to the right of index 2 is index 4 (6).\n",
    "- index 3 --&gt; the greatest element to the right of index 3 is index 4 (6).\n",
    "- index 4 --&gt; the greatest element to the right of index 4 is index 5 (1).\n",
    "- index 5 --&gt; there are no elements to the right of index 5, so we put -1.\n",
    "</pre>\n",
    "\n",
    "<p><strong class=\"example\">Example 2:</strong></p>\n",
    "\n",
    "<pre><strong>Input:</strong> arr = [400]\n",
    "<strong>Output:</strong> [-1]\n",
    "<strong>Explanation:</strong> There are no elements to the right of index 0.\n",
    "</pre>\n",
    "\n",
    "<p>&nbsp;</p>\n",
    "<p><strong>Constraints:</strong></p>\n",
    "\n",
    "<ul>\n",
    "\t<li><code>1 &lt;= arr.length &lt;= 10<sup>4</sup></code></li>\n",
    "\t<li><code>1 &lt;= arr[i] &lt;= 10<sup>5</sup></code></li>\n",
    "</ul>\n",
    "</div>"
   ]
  },
  {
   "cell_type": "code",
   "execution_count": null,
   "id": "facd8ea7",
   "metadata": {},
   "outputs": [],
   "source": [
    "def replaceElements(arr):\n",
    "    max_ = arr[-1]\n",
    "    arr[-1] = -1\n",
    "    for i in range(len(arr) - 2, -1, -1):\n",
    "        temp = arr[i]\n",
    "        arr[i] = max_\n",
    "        if temp >= max_: max_ = temp\n",
    "    \n",
    "    return arr\n",
    "\n",
    "replaceElements([5])"
   ]
  }
 ],
 "metadata": {},
 "nbformat": 4,
 "nbformat_minor": 5
}
