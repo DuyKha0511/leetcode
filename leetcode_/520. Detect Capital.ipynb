{
 "cells": [
  {
   "cell_type": "markdown",
   "id": "e976a0c5",
   "metadata": {},
   "source": [
    "**[From Leetcode: 520. Detect Capital](https://leetcode.com/problems/detect-capital)**\n",
    "\n",
    "<div class=\"xFUwe\" data-track-load=\"description_content\"><p>We define the usage of capitals in a word to be right when one of the following cases holds:</p>\n",
    "\n",
    "<ul>\n",
    "\t<li>All letters in this word are capitals, like <code>\"USA\"</code>.</li>\n",
    "\t<li>All letters in this word are not capitals, like <code>\"leetcode\"</code>.</li>\n",
    "\t<li>Only the first letter in this word is capital, like <code>\"Google\"</code>.</li>\n",
    "</ul>\n",
    "\n",
    "<p>Given a string <code>word</code>, return <code>true</code> if the usage of capitals in it is right.</p>\n",
    "\n",
    "<p>&nbsp;</p>\n",
    "<p><strong class=\"example\">Example 1:</strong></p>\n",
    "<pre><strong>Input:</strong> word = \"USA\"\n",
    "<strong>Output:</strong> true\n",
    "</pre><p><strong class=\"example\">Example 2:</strong></p>\n",
    "<pre><strong>Input:</strong> word = \"FlaG\"\n",
    "<strong>Output:</strong> false\n",
    "</pre>\n",
    "<p>&nbsp;</p>\n",
    "<p><strong>Constraints:</strong></p>\n",
    "\n",
    "<ul>\n",
    "\t<li><code>1 &lt;= word.length &lt;= 100</code></li>\n",
    "\t<li><code>word</code> consists of lowercase and uppercase English letters.</li>\n",
    "</ul>\n",
    "</div>"
   ]
  },
  {
   "cell_type": "code",
   "execution_count": null,
   "id": "e21c13a8",
   "metadata": {},
   "outputs": [],
   "source": [
    "def detectCapitalUse(word):\n",
    "    capital_index = []\n",
    "    for i in range(len(word)):\n",
    "        if 'A' <= word[i] <= 'Z':\n",
    "            capital_index.append(i)\n",
    "\n",
    "    if len(capital_index) == 1:\n",
    "        if capital_index[0] != 0: \n",
    "            return False\n",
    "        else:\n",
    "            return True\n",
    "    elif len(capital_index) == 0 or len(capital_index) == len(word):\n",
    "        return True\n",
    "            \n",
    "    return False\n",
    "\n",
    "detectCapitalUse('Google')"
   ]
  }
 ],
 "metadata": {},
 "nbformat": 4,
 "nbformat_minor": 5
}
