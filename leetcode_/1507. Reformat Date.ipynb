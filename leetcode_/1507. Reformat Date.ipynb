{
 "cells": [
  {
   "cell_type": "markdown",
   "id": "fa354850",
   "metadata": {},
   "source": [
    "**[From Leetcode: 1507. Reformat Date](https://leetcode.com/problems/reformat-date)**\n",
    "\n",
    "<div class=\"animate-pulse flex w-full flex-col gap-6\"><div class=\"flex w-full flex-col gap-2\"><div class=\"rounded-[5px] bg-fill-3 dark:bg-dark-fill-3 h-4 w-full\"></div><div class=\"rounded-[5px] bg-fill-3 dark:bg-dark-fill-3 h-4 w-full\"></div><div class=\"rounded-[5px] bg-fill-3 dark:bg-dark-fill-3 h-4 w-1/2\"></div></div><div class=\"flex w-full flex-col gap-2\"><div class=\"rounded-[5px] bg-fill-3 dark:bg-dark-fill-3 h-4 w-full\"></div><div class=\"rounded-[5px] bg-fill-3 dark:bg-dark-fill-3 h-4 w-full\"></div><div class=\"rounded-[5px] bg-fill-3 dark:bg-dark-fill-3 h-4 w-1/2\"></div></div><div class=\"flex w-full flex-col gap-2\"><div class=\"rounded-[5px] bg-fill-3 dark:bg-dark-fill-3 h-4 w-full\"></div><div class=\"rounded-[5px] bg-fill-3 dark:bg-dark-fill-3 h-4 w-full\"></div><div class=\"rounded-[5px] bg-fill-3 dark:bg-dark-fill-3 h-4 w-1/2\"></div></div><div class=\"h-[500px] w-full\"></div></div>"
   ]
  },
  {
   "cell_type": "code",
   "execution_count": null,
   "id": "8bc16f43",
   "metadata": {},
   "outputs": [],
   "source": [
    "class Solution(object):\n",
    "    def reformatDate(self, date):\n",
    "        \"\"\"\n",
    "        :type date: str\n",
    "        :rtype: str\n",
    "        \"\"\"\n",
    "        month = {\n",
    "            \"Jan\": '01',\n",
    "            \"Feb\": '02',\n",
    "            \"Mar\": '03',\n",
    "            \"Apr\": '04',\n",
    "            \"May\": '05',\n",
    "            \"Jun\": '06',\n",
    "            \"Jul\": '07',\n",
    "            \"Aug\": '08',\n",
    "            \"Sep\": '09',\n",
    "            \"Oct\": '10',\n",
    "            \"Nov\": '11',\n",
    "            \"Dec\": '12'\n",
    "        }\n",
    "        date = date.split(' ')\n",
    "        day, month, year = date[0], month[date[1]], date[2]\n",
    "\n",
    "        if len(day) == 3: day = '0' + day[:1]\n",
    "        else:\n",
    "            day = day[:2]\n",
    "\n",
    "        return '{}-{}-{}'.format(year, month, day)"
   ]
  }
 ],
 "metadata": {},
 "nbformat": 4,
 "nbformat_minor": 5
}
