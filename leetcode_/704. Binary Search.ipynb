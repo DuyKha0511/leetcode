{
 "cells": [
  {
   "cell_type": "markdown",
   "id": "307fd53b",
   "metadata": {},
   "source": [
    "**[From Leetcode: 704. Binary Search](https://leetcode.com/problems/binary-search)**\n",
    "\n",
    "<div class=\"animate-pulse flex w-full flex-col gap-6\"><div class=\"flex w-full flex-col gap-2\"><div class=\"rounded-[5px] bg-fill-3 dark:bg-dark-fill-3 h-4 w-full\"></div><div class=\"rounded-[5px] bg-fill-3 dark:bg-dark-fill-3 h-4 w-full\"></div><div class=\"rounded-[5px] bg-fill-3 dark:bg-dark-fill-3 h-4 w-1/2\"></div></div><div class=\"flex w-full flex-col gap-2\"><div class=\"rounded-[5px] bg-fill-3 dark:bg-dark-fill-3 h-4 w-full\"></div><div class=\"rounded-[5px] bg-fill-3 dark:bg-dark-fill-3 h-4 w-full\"></div><div class=\"rounded-[5px] bg-fill-3 dark:bg-dark-fill-3 h-4 w-1/2\"></div></div><div class=\"flex w-full flex-col gap-2\"><div class=\"rounded-[5px] bg-fill-3 dark:bg-dark-fill-3 h-4 w-full\"></div><div class=\"rounded-[5px] bg-fill-3 dark:bg-dark-fill-3 h-4 w-full\"></div><div class=\"rounded-[5px] bg-fill-3 dark:bg-dark-fill-3 h-4 w-1/2\"></div></div><div class=\"h-[500px] w-full\"></div></div>"
   ]
  },
  {
   "cell_type": "code",
   "execution_count": null,
   "id": "bf8301df",
   "metadata": {},
   "outputs": [],
   "source": [
    "class Solution(object):\n",
    "    def search(self, lst, number):\n",
    "        \"\"\"\n",
    "        :type nums: List[int]\n",
    "        :type target: int\n",
    "        :rtype: int\n",
    "        \"\"\"\n",
    "        left = 0\n",
    "        right = len(lst) - 1\n",
    "\n",
    "        while left <= right:\n",
    "            mid = left + (right - left) // 2\n",
    "            if lst[mid] == number:\n",
    "                return mid\n",
    "\n",
    "            elif lst[mid] < number:\n",
    "                left = mid + 1\n",
    "\n",
    "            else:\n",
    "                right = mid - 1\n",
    "\n",
    "        return -1"
   ]
  }
 ],
 "metadata": {},
 "nbformat": 4,
 "nbformat_minor": 5
}
