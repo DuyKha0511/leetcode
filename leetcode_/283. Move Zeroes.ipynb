{
 "cells": [
  {
   "cell_type": "markdown",
   "id": "0ea4c5e2",
   "metadata": {},
   "source": [
    "**[From Leetcode: 283. Move Zeroes](https://leetcode.com/problems/move-zeroes)**\n",
    "\n",
    "<div class=\"xFUwe\" data-track-load=\"description_content\"><p>Given an integer array <code>nums</code>, move all <code>0</code>'s to the end of it while maintaining the relative order of the non-zero elements.</p>\n",
    "\n",
    "<p><strong>Note</strong> that you must do this in-place without making a copy of the array.</p>\n",
    "\n",
    "<p>&nbsp;</p>\n",
    "<p><strong class=\"example\">Example 1:</strong></p>\n",
    "<pre><strong>Input:</strong> nums = [0,1,0,3,12]\n",
    "<strong>Output:</strong> [1,3,12,0,0]\n",
    "</pre><p><strong class=\"example\">Example 2:</strong></p>\n",
    "<pre><strong>Input:</strong> nums = [0]\n",
    "<strong>Output:</strong> [0]\n",
    "</pre>\n",
    "<p>&nbsp;</p>\n",
    "<p><strong>Constraints:</strong></p>\n",
    "\n",
    "<ul>\n",
    "\t<li><code>1 &lt;= nums.length &lt;= 10<sup>4</sup></code></li>\n",
    "\t<li><code>-2<sup>31</sup> &lt;= nums[i] &lt;= 2<sup>31</sup> - 1</code></li>\n",
    "</ul>\n",
    "\n",
    "<p>&nbsp;</p>\n",
    "<strong>Follow up:</strong> Could you minimize the total number of operations done?</div>"
   ]
  },
  {
   "cell_type": "code",
   "execution_count": null,
   "id": "3132802b",
   "metadata": {},
   "outputs": [],
   "source": [
    "class Solution(object):\n",
    "    def moveZeroes(self, nums):\n",
    "        \"\"\"\n",
    "        :type nums: List[int]\n",
    "        :rtype: None Do not return anything, modify nums in-place instead.\n",
    "        \"\"\"\n",
    "        first_0_index = -1\n",
    "\n",
    "        for i in range(0, len(nums)):\n",
    "            if nums[i] != 0 and first_0_index != -1:\n",
    "                nums[first_0_index], nums[i] = nums[i], 0\n",
    "                first_0_index += 1\n",
    "            elif nums[i] == 0 and first_0_index == -1:\n",
    "                first_0_index = i"
   ]
  }
 ],
 "metadata": {},
 "nbformat": 4,
 "nbformat_minor": 5
}
