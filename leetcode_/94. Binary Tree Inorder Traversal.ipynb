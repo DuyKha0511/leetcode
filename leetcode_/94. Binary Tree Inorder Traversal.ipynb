{
 "cells": [
  {
   "cell_type": "markdown",
   "id": "d0336580",
   "metadata": {},
   "source": [
    "**[From Leetcode: 94. Binary Tree Inorder Traversal](https://leetcode.com/problems/binary-tree-inorder-traversal)**\n",
    "\n",
    "<div class=\"xFUwe\" data-track-load=\"description_content\"><p>Given the <code>root</code> of a binary tree, return <em>the inorder traversal of its nodes' values</em>.</p>\n",
    "\n",
    "<p>&nbsp;</p>\n",
    "<p><strong class=\"example\">Example 1:</strong></p>\n",
    "<img alt=\"\" src=\"https://assets.leetcode.com/uploads/2020/09/15/inorder_1.jpg\" style=\"width: 125px; height: 200px;\">\n",
    "<pre><strong>Input:</strong> root = [1,null,2,3]\n",
    "<strong>Output:</strong> [1,3,2]\n",
    "</pre>\n",
    "\n",
    "<p><strong class=\"example\">Example 2:</strong></p>\n",
    "\n",
    "<pre><strong>Input:</strong> root = []\n",
    "<strong>Output:</strong> []\n",
    "</pre>\n",
    "\n",
    "<p><strong class=\"example\">Example 3:</strong></p>\n",
    "\n",
    "<pre><strong>Input:</strong> root = [1]\n",
    "<strong>Output:</strong> [1]\n",
    "</pre>\n",
    "\n",
    "<p>&nbsp;</p>\n",
    "<p><strong>Constraints:</strong></p>\n",
    "\n",
    "<ul>\n",
    "\t<li>The number of nodes in the tree is in the range <code>[0, 100]</code>.</li>\n",
    "\t<li><code>-100 &lt;= Node.val &lt;= 100</code></li>\n",
    "</ul>\n",
    "\n",
    "<p>&nbsp;</p>\n",
    "<strong>Follow up:</strong> Recursive solution is trivial, could you do it iteratively?</div>"
   ]
  },
  {
   "cell_type": "code",
   "execution_count": null,
   "id": "748efc3a",
   "metadata": {},
   "outputs": [],
   "source": [
    "def inorderTraversal(root):\n",
    "    order = []\n",
    "    if root != None:\n",
    "        order.extend(inorderTraversal(root.left))\n",
    "        order.append(root.val)\n",
    "        order.extend(inorderTraversal(root.right))\n",
    "    return order"
   ]
  }
 ],
 "metadata": {},
 "nbformat": 4,
 "nbformat_minor": 5
}
