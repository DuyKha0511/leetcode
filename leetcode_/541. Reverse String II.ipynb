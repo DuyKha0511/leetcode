{
 "cells": [
  {
   "cell_type": "markdown",
   "id": "d528f1c9",
   "metadata": {},
   "source": [
    "**[From Leetcode: 541. Reverse String II](https://leetcode.com/problems/reverse-string-ii)**\n",
    "\n",
    "<div class=\"xFUwe\" data-track-load=\"description_content\"><p>Given a string <code>s</code> and an integer <code>k</code>, reverse the first <code>k</code> characters for every <code>2k</code> characters counting from the start of the string.</p>\n",
    "\n",
    "<p>If there are fewer than <code>k</code> characters left, reverse all of them. If there are less than <code>2k</code> but greater than or equal to <code>k</code> characters, then reverse the first <code>k</code> characters and leave the other as original.</p>\n",
    "\n",
    "<p>&nbsp;</p>\n",
    "<p><strong class=\"example\">Example 1:</strong></p>\n",
    "<pre><strong>Input:</strong> s = \"abcdefg\", k = 2\n",
    "<strong>Output:</strong> \"bacdfeg\"\n",
    "</pre><p><strong class=\"example\">Example 2:</strong></p>\n",
    "<pre><strong>Input:</strong> s = \"abcd\", k = 2\n",
    "<strong>Output:</strong> \"bacd\"\n",
    "</pre>\n",
    "<p>&nbsp;</p>\n",
    "<p><strong>Constraints:</strong></p>\n",
    "\n",
    "<ul>\n",
    "\t<li><code>1 &lt;= s.length &lt;= 10<sup>4</sup></code></li>\n",
    "\t<li><code>s</code> consists of only lowercase English letters.</li>\n",
    "\t<li><code>1 &lt;= k &lt;= 10<sup>4</sup></code></li>\n",
    "</ul>\n",
    "</div>"
   ]
  },
  {
   "cell_type": "code",
   "execution_count": null,
   "id": "567abdae",
   "metadata": {},
   "outputs": [],
   "source": [
    "def reverseStr(s, k):\n",
    "    s = [s[i : i + 2 * k] for i in range(0, len(s), 2*k)]\n",
    "    re = ''\n",
    "    for i in range(len(s) - 1):\n",
    "        re += s[i][0:k][::-1] + s[i][k:]\n",
    "    \n",
    "    if len(s[-1]) < k:\n",
    "        return re + s[-1][::-1]\n",
    "    else:\n",
    "        return re + s[-1][0:k][::-1] + s[-1][k:]\n",
    "    \n",
    "\n",
    "reverseStr('abcd', 2)\n",
    "    "
   ]
  }
 ],
 "metadata": {},
 "nbformat": 4,
 "nbformat_minor": 5
}
