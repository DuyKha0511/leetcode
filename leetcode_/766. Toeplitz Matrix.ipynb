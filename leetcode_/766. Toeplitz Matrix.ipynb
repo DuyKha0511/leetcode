{
 "cells": [
  {
   "cell_type": "markdown",
   "id": "656cfc78",
   "metadata": {},
   "source": [
    "**[From Leetcode: 766. Toeplitz Matrix](https://leetcode.com/problems/toeplitz-matrix)**\n",
    "\n",
    "<div class=\"animate-pulse flex w-full flex-col gap-6\"><div class=\"flex w-full flex-col gap-2\"><div class=\"rounded-[5px] bg-fill-3 dark:bg-dark-fill-3 h-4 w-full\"></div><div class=\"rounded-[5px] bg-fill-3 dark:bg-dark-fill-3 h-4 w-full\"></div><div class=\"rounded-[5px] bg-fill-3 dark:bg-dark-fill-3 h-4 w-1/2\"></div></div><div class=\"flex w-full flex-col gap-2\"><div class=\"rounded-[5px] bg-fill-3 dark:bg-dark-fill-3 h-4 w-full\"></div><div class=\"rounded-[5px] bg-fill-3 dark:bg-dark-fill-3 h-4 w-full\"></div><div class=\"rounded-[5px] bg-fill-3 dark:bg-dark-fill-3 h-4 w-1/2\"></div></div><div class=\"flex w-full flex-col gap-2\"><div class=\"rounded-[5px] bg-fill-3 dark:bg-dark-fill-3 h-4 w-full\"></div><div class=\"rounded-[5px] bg-fill-3 dark:bg-dark-fill-3 h-4 w-full\"></div><div class=\"rounded-[5px] bg-fill-3 dark:bg-dark-fill-3 h-4 w-1/2\"></div></div><div class=\"h-[500px] w-full\"></div></div>"
   ]
  },
  {
   "cell_type": "code",
   "execution_count": null,
   "id": "fa6964d9",
   "metadata": {},
   "outputs": [],
   "source": [
    "def isToeplitzMatrix(matrix):\n",
    "    for i in range(len(matrix[0]) - 1):\n",
    "        begin_ = 0\n",
    "        a = len(matrix) if i + len(matrix) - 1 < len(matrix[0]) else len(matrix[0]) - i\n",
    "        a += i\n",
    "        b = matrix[begin_][i]\n",
    "        while i < a:\n",
    "            if matrix[begin_][i] != b: \n",
    "                return False\n",
    "            i += 1\n",
    "            begin_ += 1\n",
    "\n",
    "    for i in range(1, len(matrix) - 1):\n",
    "        begin_ = 0\n",
    "        a = len(matrix[0]) if i + len(matrix[0]) - 1 < len(matrix) else len(matrix) - i\n",
    "        b = matrix[i][begin_]\n",
    "        for _ in range(a):\n",
    "            if matrix[i][begin_] != b: return False\n",
    "            i += 1\n",
    "            begin_ += 1\n",
    "            \n",
    "    return True\n",
    "\n",
    "isToeplitzMatrix([[83],[64],[57]])\n",
    "# isToeplitzMatrix([[1,2,3,4,5],[5,1,2,3,4],[5,5,1,2,3],[5,5,5,1,2]])"
   ]
  }
 ],
 "metadata": {},
 "nbformat": 4,
 "nbformat_minor": 5
}
