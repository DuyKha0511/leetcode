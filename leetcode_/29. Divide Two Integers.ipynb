{
 "cells": [
  {
   "cell_type": "code",
   "execution_count": 23,
   "metadata": {},
   "outputs": [
    {
     "name": "stdout",
     "output_type": "stream",
     "text": [
      "1073741823\n"
     ]
    },
    {
     "data": {
      "text/plain": [
       "1073741823"
      ]
     },
     "execution_count": 23,
     "metadata": {},
     "output_type": "execute_result"
    }
   ],
   "source": [
    "class Solution(object):\n",
    "    def divide(self, dividend, divisor):\n",
    "        \"\"\"\n",
    "        :type dividend: int\n",
    "        :type divisor: int\n",
    "        :rtype: int\n",
    "        \"\"\"\n",
    "        if abs(divisor) == 1:\n",
    "            dividend = divisor * dividend\n",
    "            if dividend > 2**31 - 1:\n",
    "                return 2**31 - 1\n",
    "\n",
    "            if dividend < -2**31:\n",
    "                return -2**31\n",
    "\n",
    "            return dividend\n",
    "\n",
    "        count = 0\n",
    "        sign = 1\n",
    "        if dividend * divisor < 0:\n",
    "            sign = -1\n",
    "\n",
    "        if dividend < 0: dividend = -dividend\n",
    "        if divisor < 0: divisor = -divisor\n",
    "\n",
    "        i = 1\n",
    "        sum_all = 0\n",
    "        while sum_all <= dividend:\n",
    "            if dividend - sum_all < divisor * i:\n",
    "                i = 1\n",
    "            count += i\n",
    "            sum_all += divisor * i\n",
    "            i += 1\n",
    "\n",
    "        # print(count - 1)\n",
    "\n",
    "        return (count - 1) * sign\n",
    "\n",
    "s = Solution()\n",
    "s.divide(2147483647, 2)"
   ]
  },
  {
   "cell_type": "code",
   "execution_count": 32,
   "metadata": {},
   "outputs": [
    {
     "data": {
      "text/plain": [
       "9379.198046000407"
      ]
     },
     "execution_count": 32,
     "metadata": {},
     "output_type": "execute_result"
    }
   ],
   "source": [
    "19200000 * 12 / 24565"
   ]
  },
  {
   "cell_type": "code",
   "execution_count": 29,
   "metadata": {},
   "outputs": [
    {
     "data": {
      "text/plain": [
       "15600"
      ]
     },
     "execution_count": 29,
     "metadata": {},
     "output_type": "execute_result"
    }
   ],
   "source": [
    "1300 * 12"
   ]
  }
 ],
 "metadata": {
  "kernelspec": {
   "display_name": "Python 3",
   "language": "python",
   "name": "python3"
  },
  "language_info": {
   "codemirror_mode": {
    "name": "ipython",
    "version": 3
   },
   "file_extension": ".py",
   "mimetype": "text/x-python",
   "name": "python",
   "nbconvert_exporter": "python",
   "pygments_lexer": "ipython3",
   "version": "3.10.10"
  }
 },
 "nbformat": 4,
 "nbformat_minor": 2
}
