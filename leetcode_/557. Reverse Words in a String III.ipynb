{
 "cells": [
  {
   "cell_type": "markdown",
   "id": "fdd65290",
   "metadata": {},
   "source": [
    "**[From Leetcode: 557. Reverse Words in a String III](https://leetcode.com/problems/reverse-words-in-a-string-iii)**\n",
    "\n",
    "<div class=\"xFUwe\" data-track-load=\"description_content\"><p>Given a string <code>s</code>, reverse the order of characters in each word within a sentence while still preserving whitespace and initial word order.</p>\n",
    "\n",
    "<p>&nbsp;</p>\n",
    "<p><strong class=\"example\">Example 1:</strong></p>\n",
    "<pre><strong>Input:</strong> s = \"Let's take LeetCode contest\"\n",
    "<strong>Output:</strong> \"s'teL ekat edoCteeL tsetnoc\"\n",
    "</pre><p><strong class=\"example\">Example 2:</strong></p>\n",
    "<pre><strong>Input:</strong> s = \"God Ding\"\n",
    "<strong>Output:</strong> \"doG gniD\"\n",
    "</pre>\n",
    "<p>&nbsp;</p>\n",
    "<p><strong>Constraints:</strong></p>\n",
    "\n",
    "<ul>\n",
    "\t<li><code>1 &lt;= s.length &lt;= 5 * 10<sup>4</sup></code></li>\n",
    "\t<li><code>s</code> contains printable <strong>ASCII</strong> characters.</li>\n",
    "\t<li><code>s</code> does not contain any leading or trailing spaces.</li>\n",
    "\t<li>There is <strong>at least one</strong> word in <code>s</code>.</li>\n",
    "\t<li>All the words in <code>s</code> are separated by a single space.</li>\n",
    "</ul>\n",
    "</div>"
   ]
  },
  {
   "cell_type": "code",
   "execution_count": null,
   "id": "6b983283",
   "metadata": {},
   "outputs": [],
   "source": [
    "def reverseWords(s):\n",
    "    s = s.split()\n",
    "    return ' '.join([word[::-1] for word in s])\n",
    "\n",
    "reverseWords(\"Let's take LeetCode contest\")"
   ]
  }
 ],
 "metadata": {},
 "nbformat": 4,
 "nbformat_minor": 5
}
