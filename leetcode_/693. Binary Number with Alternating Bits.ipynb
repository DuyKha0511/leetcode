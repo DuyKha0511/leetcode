{
 "cells": [
  {
   "cell_type": "markdown",
   "id": "a5c8dfb8",
   "metadata": {},
   "source": [
    "**[From Leetcode: 693. Binary Number with Alternating Bits](https://leetcode.com/problems/binary-number-with-alternating-bits)**\n",
    "\n",
    "<div class=\"xFUwe\" data-track-load=\"description_content\"><p>Given a positive integer, check whether it has alternating bits: namely, if two adjacent bits will always have different values.</p>\n",
    "\n",
    "<p>&nbsp;</p>\n",
    "<p><strong class=\"example\">Example 1:</strong></p>\n",
    "\n",
    "<pre><strong>Input:</strong> n = 5\n",
    "<strong>Output:</strong> true\n",
    "<strong>Explanation:</strong> The binary representation of 5 is: 101\n",
    "</pre>\n",
    "\n",
    "<p><strong class=\"example\">Example 2:</strong></p>\n",
    "\n",
    "<pre><strong>Input:</strong> n = 7\n",
    "<strong>Output:</strong> false\n",
    "<strong>Explanation:</strong> The binary representation of 7 is: 111.</pre>\n",
    "\n",
    "<p><strong class=\"example\">Example 3:</strong></p>\n",
    "\n",
    "<pre><strong>Input:</strong> n = 11\n",
    "<strong>Output:</strong> false\n",
    "<strong>Explanation:</strong> The binary representation of 11 is: 1011.</pre>\n",
    "\n",
    "<p>&nbsp;</p>\n",
    "<p><strong>Constraints:</strong></p>\n",
    "\n",
    "<ul>\n",
    "\t<li><code>1 &lt;= n &lt;= 2<sup>31</sup> - 1</code></li>\n",
    "</ul>\n",
    "</div>"
   ]
  },
  {
   "cell_type": "code",
   "execution_count": null,
   "id": "f358e358",
   "metadata": {},
   "outputs": [],
   "source": [
    "def hasAlternatingBits(n):\n",
    "    bit = 0 if int(n % 2) == 1 else 1\n",
    "    \n",
    "    while n > 0:\n",
    "        if int(n % 2) == bit: \n",
    "            return False\n",
    "        else:\n",
    "            bit = int(n % 2)\n",
    "            \n",
    "        n = n // 2\n",
    "    \n",
    "    return True\n",
    "\n",
    "hasAlternatingBits(10)"
   ]
  }
 ],
 "metadata": {},
 "nbformat": 4,
 "nbformat_minor": 5
}
