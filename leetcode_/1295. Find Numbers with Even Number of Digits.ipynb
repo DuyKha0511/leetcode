{
 "cells": [
  {
   "cell_type": "markdown",
   "id": "d6448581",
   "metadata": {},
   "source": [
    "**[From Leetcode: 1295. Find Numbers with Even Number of Digits](https://leetcode.com/problems/find-numbers-with-even-number-of-digits)**\n",
    "\n",
    "<div class=\"xFUwe\" data-track-load=\"description_content\"><p>Given an array <code>nums</code> of integers, return how many of them contain an <strong>even number</strong> of digits.</p>\n",
    "\n",
    "<p>&nbsp;</p>\n",
    "<p><strong class=\"example\">Example 1:</strong></p>\n",
    "\n",
    "<pre><strong>Input:</strong> nums = [12,345,2,6,7896]\n",
    "<strong>Output:</strong> 2\n",
    "<strong>Explanation: \n",
    "</strong>12 contains 2 digits (even number of digits).&nbsp;\n",
    "345 contains 3 digits (odd number of digits).&nbsp;\n",
    "2 contains 1 digit (odd number of digits).&nbsp;\n",
    "6 contains 1 digit (odd number of digits).&nbsp;\n",
    "7896 contains 4 digits (even number of digits).&nbsp;\n",
    "Therefore only 12 and 7896 contain an even number of digits.\n",
    "</pre>\n",
    "\n",
    "<p><strong class=\"example\">Example 2:</strong></p>\n",
    "\n",
    "<pre><strong>Input:</strong> nums = [555,901,482,1771]\n",
    "<strong>Output:</strong> 1 \n",
    "<strong>Explanation: </strong>\n",
    "Only 1771 contains an even number of digits.\n",
    "</pre>\n",
    "\n",
    "<p>&nbsp;</p>\n",
    "<p><strong>Constraints:</strong></p>\n",
    "\n",
    "<ul>\n",
    "\t<li><code>1 &lt;= nums.length &lt;= 500</code></li>\n",
    "\t<li><code>1 &lt;= nums[i] &lt;= 10<sup>5</sup></code></li>\n",
    "</ul>\n",
    "</div>"
   ]
  },
  {
   "cell_type": "code",
   "execution_count": null,
   "id": "d56cce4b",
   "metadata": {},
   "outputs": [],
   "source": [
    "class Solution(object):\n",
    "    def findNumbers(self, nums):\n",
    "        \"\"\"\n",
    "        :type nums: List[int]\n",
    "        :rtype: int\n",
    "        \"\"\"\n",
    "        return len([num for num in nums if len(str(num)) % 2 == 0])"
   ]
  }
 ],
 "metadata": {},
 "nbformat": 4,
 "nbformat_minor": 5
}
