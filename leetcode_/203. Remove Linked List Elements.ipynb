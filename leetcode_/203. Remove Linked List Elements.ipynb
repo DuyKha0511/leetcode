{
 "cells": [
  {
   "cell_type": "markdown",
   "id": "998a131c",
   "metadata": {},
   "source": [
    "**[From Leetcode: 203. Remove Linked List Elements](https://leetcode.com/problems/remove-linked-list-elements)**\n",
    "\n",
    "<div class=\"xFUwe\" data-track-load=\"description_content\"><p>Given the <code>head</code> of a linked list and an integer <code>val</code>, remove all the nodes of the linked list that has <code>Node.val == val</code>, and return <em>the new head</em>.</p>\n",
    "\n",
    "<p>&nbsp;</p>\n",
    "<p><strong class=\"example\">Example 1:</strong></p>\n",
    "<img alt=\"\" src=\"https://assets.leetcode.com/uploads/2021/03/06/removelinked-list.jpg\" style=\"width: 500px; height: 142px;\">\n",
    "<pre><strong>Input:</strong> head = [1,2,6,3,4,5,6], val = 6\n",
    "<strong>Output:</strong> [1,2,3,4,5]\n",
    "</pre>\n",
    "\n",
    "<p><strong class=\"example\">Example 2:</strong></p>\n",
    "\n",
    "<pre><strong>Input:</strong> head = [], val = 1\n",
    "<strong>Output:</strong> []\n",
    "</pre>\n",
    "\n",
    "<p><strong class=\"example\">Example 3:</strong></p>\n",
    "\n",
    "<pre><strong>Input:</strong> head = [7,7,7,7], val = 7\n",
    "<strong>Output:</strong> []\n",
    "</pre>\n",
    "\n",
    "<p>&nbsp;</p>\n",
    "<p><strong>Constraints:</strong></p>\n",
    "\n",
    "<ul>\n",
    "\t<li>The number of nodes in the list is in the range <code>[0, 10<sup>4</sup>]</code>.</li>\n",
    "\t<li><code>1 &lt;= Node.val &lt;= 50</code></li>\n",
    "\t<li><code>0 &lt;= val &lt;= 50</code></li>\n",
    "</ul>\n",
    "</div>"
   ]
  },
  {
   "cell_type": "code",
   "execution_count": null,
   "id": "0520963c",
   "metadata": {},
   "outputs": [],
   "source": [
    "def removeElements(head, val):\n",
    "    temp = head\n",
    "    if temp == None:\n",
    "        return None\n",
    "\n",
    "    while temp.next:\n",
    "        if temp.next.val == val:\n",
    "            temp.next = temp.next.next\n",
    "        else:\n",
    "            temp = temp.next\n",
    "    if head.val == val:\n",
    "        head = head.next\n",
    "\n",
    "    return head"
   ]
  }
 ],
 "metadata": {},
 "nbformat": 4,
 "nbformat_minor": 5
}
