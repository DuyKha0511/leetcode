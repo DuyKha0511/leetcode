{
 "cells": [
  {
   "cell_type": "markdown",
   "id": "397d8363",
   "metadata": {},
   "source": [
    "**[From Leetcode: 696. Count Binary Substrings](https://leetcode.com/problems/count-binary-substrings)**\n",
    "\n",
    "<div class=\"xFUwe\" data-track-load=\"description_content\"><p>Given a binary string <code>s</code>, return the number of non-empty substrings that have the same number of <code>0</code>'s and <code>1</code>'s, and all the <code>0</code>'s and all the <code>1</code>'s in these substrings are grouped consecutively.</p>\n",
    "\n",
    "<p>Substrings that occur multiple times are counted the number of times they occur.</p>\n",
    "\n",
    "<p>&nbsp;</p>\n",
    "<p><strong class=\"example\">Example 1:</strong></p>\n",
    "\n",
    "<pre><strong>Input:</strong> s = \"00110011\"\n",
    "<strong>Output:</strong> 6\n",
    "<strong>Explanation:</strong> There are 6 substrings that have equal number of consecutive 1's and 0's: \"0011\", \"01\", \"1100\", \"10\", \"0011\", and \"01\".\n",
    "Notice that some of these substrings repeat and are counted the number of times they occur.\n",
    "Also, \"00110011\" is not a valid substring because all the 0's (and 1's) are not grouped together.\n",
    "</pre>\n",
    "\n",
    "<p><strong class=\"example\">Example 2:</strong></p>\n",
    "\n",
    "<pre><strong>Input:</strong> s = \"10101\"\n",
    "<strong>Output:</strong> 4\n",
    "<strong>Explanation:</strong> There are 4 substrings: \"10\", \"01\", \"10\", \"01\" that have equal number of consecutive 1's and 0's.\n",
    "</pre>\n",
    "\n",
    "<p>&nbsp;</p>\n",
    "<p><strong>Constraints:</strong></p>\n",
    "\n",
    "<ul>\n",
    "\t<li><code>1 &lt;= s.length &lt;= 10<sup>5</sup></code></li>\n",
    "\t<li><code>s[i]</code> is either <code>'0'</code> or <code>'1'</code>.</li>\n",
    "</ul>\n",
    "</div>"
   ]
  },
  {
   "cell_type": "code",
   "execution_count": null,
   "id": "6462be89",
   "metadata": {},
   "outputs": [],
   "source": [
    "def countBinarySubstrings(s):\n",
    "    per = 0\n",
    "    sum_ = 0\n",
    "    cur = 1\n",
    "    for i in range(1, len(s)):\n",
    "        if s[i] != s[i - 1]:\n",
    "            sum_ += min(per, cur)\n",
    "            per = cur\n",
    "            cur = 1\n",
    "        else:\n",
    "            cur += 1\n",
    "            \n",
    "    return sum_ + min(per, cur)\n",
    "\n",
    "countBinarySubstrings('00110011')"
   ]
  }
 ],
 "metadata": {
  "language_info": {
   "name": "python"
  }
 },
 "nbformat": 4,
 "nbformat_minor": 5
}
