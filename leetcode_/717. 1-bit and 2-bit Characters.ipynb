{
 "cells": [
  {
   "cell_type": "markdown",
   "id": "8c3125c9",
   "metadata": {},
   "source": [
    "**[From Leetcode: 717. 1-bit and 2-bit Characters](https://leetcode.com/problems/1-bit-and-2-bit-characters)**\n",
    "\n",
    "<div class=\"xFUwe\" data-track-load=\"description_content\"><p>We have two special characters:</p>\n",
    "\n",
    "<ul>\n",
    "\t<li>The first character can be represented by one bit <code>0</code>.</li>\n",
    "\t<li>The second character can be represented by two bits (<code>10</code> or <code>11</code>).</li>\n",
    "</ul>\n",
    "\n",
    "<p>Given a binary array <code>bits</code> that ends with <code>0</code>, return <code>true</code> if the last character must be a one-bit character.</p>\n",
    "\n",
    "<p>&nbsp;</p>\n",
    "<p><strong class=\"example\">Example 1:</strong></p>\n",
    "\n",
    "<pre><strong>Input:</strong> bits = [1,0,0]\n",
    "<strong>Output:</strong> true\n",
    "<strong>Explanation:</strong> The only way to decode it is two-bit character and one-bit character.\n",
    "So the last character is one-bit character.\n",
    "</pre>\n",
    "\n",
    "<p><strong class=\"example\">Example 2:</strong></p>\n",
    "\n",
    "<pre><strong>Input:</strong> bits = [1,1,1,0]\n",
    "<strong>Output:</strong> false\n",
    "<strong>Explanation:</strong> The only way to decode it is two-bit character and two-bit character.\n",
    "So the last character is not one-bit character.\n",
    "</pre>\n",
    "\n",
    "<p>&nbsp;</p>\n",
    "<p><strong>Constraints:</strong></p>\n",
    "\n",
    "<ul>\n",
    "\t<li><code>1 &lt;= bits.length &lt;= 1000</code></li>\n",
    "\t<li><code>bits[i]</code> is either <code>0</code> or <code>1</code>.</li>\n",
    "</ul>\n",
    "</div>"
   ]
  },
  {
   "cell_type": "code",
   "execution_count": null,
   "id": "3288cacc",
   "metadata": {},
   "outputs": [],
   "source": [
    "def isOneBitCharacter(bits):\n",
    "    str_ = ''.join([str(b) for b in bits])\n",
    "    str_ = str_.replace('11', '10')\n",
    "    str_ = str_.replace('10', '-')\n",
    "    \n",
    "    return str_[-1] == '0'\n",
    "\n",
    "isOneBitCharacter([1,0,1,0,0,1,1,0,1,0])\n",
    "    "
   ]
  }
 ],
 "metadata": {},
 "nbformat": 4,
 "nbformat_minor": 5
}
