{
 "cells": [
  {
   "cell_type": "markdown",
   "id": "45148b8a",
   "metadata": {},
   "source": [
    "**[From Leetcode: 657. Robot Return to Origin](https://leetcode.com/problems/robot-return-to-origin)**\n",
    "\n",
    "<div class=\"xFUwe\" data-track-load=\"description_content\"><p>There is a robot starting at the position <code>(0, 0)</code>, the origin, on a 2D plane. Given a sequence of its moves, judge if this robot <strong>ends up at </strong><code>(0, 0)</code> after it completes its moves.</p>\n",
    "\n",
    "<p>You are given a string <code>moves</code> that represents the move sequence of the robot where <code>moves[i]</code> represents its <code>i<sup>th</sup></code> move. Valid moves are <code>'R'</code> (right), <code>'L'</code> (left), <code>'U'</code> (up), and <code>'D'</code> (down).</p>\n",
    "\n",
    "<p>Return <code>true</code><em> if the robot returns to the origin after it finishes all of its moves, or </em><code>false</code><em> otherwise</em>.</p>\n",
    "\n",
    "<p><strong>Note</strong>: The way that the robot is \"facing\" is irrelevant. <code>'R'</code> will always make the robot move to the right once, <code>'L'</code> will always make it move left, etc. Also, assume that the magnitude of the robot's movement is the same for each move.</p>\n",
    "\n",
    "<p>&nbsp;</p>\n",
    "<p><strong class=\"example\">Example 1:</strong></p>\n",
    "\n",
    "<pre><strong>Input:</strong> moves = \"UD\"\n",
    "<strong>Output:</strong> true\n",
    "<strong>Explanation</strong>: The robot moves up once, and then down once. All moves have the same magnitude, so it ended up at the origin where it started. Therefore, we return true.\n",
    "</pre>\n",
    "\n",
    "<p><strong class=\"example\">Example 2:</strong></p>\n",
    "\n",
    "<pre><strong>Input:</strong> moves = \"LL\"\n",
    "<strong>Output:</strong> false\n",
    "<strong>Explanation</strong>: The robot moves left twice. It ends up two \"moves\" to the left of the origin. We return false because it is not at the origin at the end of its moves.\n",
    "</pre>\n",
    "\n",
    "<p>&nbsp;</p>\n",
    "<p><strong>Constraints:</strong></p>\n",
    "\n",
    "<ul>\n",
    "\t<li><code>1 &lt;= moves.length &lt;= 2 * 10<sup>4</sup></code></li>\n",
    "\t<li><code>moves</code> only contains the characters <code>'U'</code>, <code>'D'</code>, <code>'L'</code> and <code>'R'</code>.</li>\n",
    "</ul>\n",
    "</div>"
   ]
  },
  {
   "cell_type": "code",
   "execution_count": null,
   "id": "75036715",
   "metadata": {},
   "outputs": [],
   "source": [
    "def judgeCircle(moves):\n",
    "    moves_obj = {\n",
    "        'D': 0,\n",
    "        'U': 0,\n",
    "        'R': 0,\n",
    "        'L': 0    \n",
    "    }\n",
    "    for move in moves:\n",
    "            moves_obj[move] += 1\n",
    "            \n",
    "    return moves_obj['U'] == moves_obj['D'] and moves_obj['R'] == moves_obj['L']\n",
    "\n",
    "judgeCircle('UD')"
   ]
  }
 ],
 "metadata": {},
 "nbformat": 4,
 "nbformat_minor": 5
}
