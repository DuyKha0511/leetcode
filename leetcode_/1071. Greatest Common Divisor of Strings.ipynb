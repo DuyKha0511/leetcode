{
 "cells": [
  {
   "cell_type": "markdown",
   "id": "2df49544",
   "metadata": {},
   "source": [
    "**[From Leetcode: 1071. Greatest Common Divisor of Strings](https://leetcode.com/problems/greatest-common-divisor-of-strings)**\n",
    "\n",
    "<div class=\"animate-pulse flex w-full flex-col gap-6\"><div class=\"flex w-full flex-col gap-2\"><div class=\"rounded-[5px] bg-fill-3 dark:bg-dark-fill-3 h-4 w-full\"></div><div class=\"rounded-[5px] bg-fill-3 dark:bg-dark-fill-3 h-4 w-full\"></div><div class=\"rounded-[5px] bg-fill-3 dark:bg-dark-fill-3 h-4 w-1/2\"></div></div><div class=\"flex w-full flex-col gap-2\"><div class=\"rounded-[5px] bg-fill-3 dark:bg-dark-fill-3 h-4 w-full\"></div><div class=\"rounded-[5px] bg-fill-3 dark:bg-dark-fill-3 h-4 w-full\"></div><div class=\"rounded-[5px] bg-fill-3 dark:bg-dark-fill-3 h-4 w-1/2\"></div></div><div class=\"flex w-full flex-col gap-2\"><div class=\"rounded-[5px] bg-fill-3 dark:bg-dark-fill-3 h-4 w-full\"></div><div class=\"rounded-[5px] bg-fill-3 dark:bg-dark-fill-3 h-4 w-full\"></div><div class=\"rounded-[5px] bg-fill-3 dark:bg-dark-fill-3 h-4 w-1/2\"></div></div><div class=\"h-[500px] w-full\"></div></div>"
   ]
  },
  {
   "cell_type": "code",
   "execution_count": null,
   "id": "09974327",
   "metadata": {},
   "outputs": [],
   "source": [
    "def gcdOfStrings(str1, str2):\n",
    "    a = len(str1)\n",
    "    b = len(str2)\n",
    "    \n",
    "    while b:\n",
    "        a, b = b, a % b\n",
    "\n",
    "    x = str1[:a]\n",
    "    \n",
    "    i = 0\n",
    "    while i < len(str1):\n",
    "        if str1[i : i + a] != x:\n",
    "            return \"\"\n",
    "        i = i + a\n",
    "        \n",
    "    i = 0\n",
    "    while i < len(str2):\n",
    "        if str2[i : i + a] != x:\n",
    "            return \"\"\n",
    "        i = i + a   \n",
    "    \n",
    "    return x\n",
    "\n",
    "gcdOfStrings('abaaabaa', 'abaa')"
   ]
  }
 ],
 "metadata": {},
 "nbformat": 4,
 "nbformat_minor": 5
}
